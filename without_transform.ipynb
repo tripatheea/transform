{
  "cells": [
    {
      "cell_type": "markdown",
      "metadata": {
        "id": "view-in-github",
        "colab_type": "text"
      },
      "source": [
        "<a href=\"https://colab.research.google.com/github/tripatheea/transform/blob/main/without_transform.ipynb\" target=\"_parent\"><img src=\"https://colab.research.google.com/assets/colab-badge.svg\" alt=\"Open In Colab\"/></a>"
      ]
    },
    {
      "cell_type": "code",
      "execution_count": null,
      "metadata": {
        "id": "CWYow7nzLg-s"
      },
      "outputs": [],
      "source": [
        "# ! pip install tensorflow-probability\n",
        "\n",
        "# # to generate gifs\n",
        "# ! pip install imageio\n",
        "# ! pip install git+https://github.com/tensorflow/docs"
      ]
    },
    {
      "cell_type": "code",
      "source": [],
      "metadata": {
        "id": "I5wL4LK2ThTh"
      },
      "execution_count": null,
      "outputs": []
    },
    {
      "cell_type": "code",
      "execution_count": null,
      "metadata": {
        "id": "yuNBsTPXLmrD"
      },
      "outputs": [],
      "source": [
        "# from IPython import display\n",
        "\n",
        "from scipy import interpolate\n",
        "# import glob\n",
        "# import imageio\n",
        "import matplotlib.pyplot as plt\n",
        "import numpy as np\n",
        "# import PIL\n",
        "import tensorflow as tf\n",
        "# import tensorflow_probability as tfp\n",
        "# import time\n",
        "\n",
        "# from tensorflow.python.framework.ops import disable_eager_execution, enable_eager_execution"
      ]
    },
    {
      "cell_type": "code",
      "execution_count": null,
      "metadata": {
        "id": "fTx2-0VWLn2N"
      },
      "outputs": [],
      "source": [
        "# import keras\n",
        "# from keras import Model\n",
        "# from keras.layers import Input, Conv2D, MaxPooling2D, UpSampling2D, Concatenate, Reshape, Dense, Lambda, Flatten\n",
        "# from keras import backend as K\n",
        "\n",
        "# import warnings\n",
        "# warnings.filterwarnings('ignore')\n",
        "import numpy as np\n",
        "# import glob\n",
        "# import skimage\n",
        "# import skimage.transform\n",
        "# import skimage.io\n",
        "# import PIL\n",
        "import numpy as np\n",
        "# import os\n",
        "# from IPython.display import clear_output\n",
        "# import pandas as pd\n",
        "import matplotlib.pyplot as plt\n",
        "# %matplotlib inline\n",
        "# from ipywidgets import interact, interactive, fixed, interact_manual\n",
        "# import ipywidgets as widgets\n",
        "# import imageio\n",
        "# import utils\n",
        "\n",
        "from sklearn.metrics import roc_curve\n"
      ]
    },
    {
      "cell_type": "code",
      "execution_count": null,
      "metadata": {
        "id": "9r2RfShULo47"
      },
      "outputs": [],
      "source": [
        "# ! pip install corner"
      ]
    },
    {
      "cell_type": "code",
      "execution_count": null,
      "metadata": {
        "id": "bUgxmjxILqPD"
      },
      "outputs": [],
      "source": [
        "# import corner"
      ]
    },
    {
      "cell_type": "code",
      "execution_count": null,
      "metadata": {
        "id": "yxf7y1LrLrZ2"
      },
      "outputs": [],
      "source": [
        "# enable_eager_execution()"
      ]
    },
    {
      "cell_type": "code",
      "execution_count": null,
      "metadata": {
        "id": "8mCLgNKFhoJD"
      },
      "outputs": [],
      "source": [
        "import numpy as np\n",
        "import matplotlib.pyplot as plt\n",
        "\n",
        "import time\n",
        "from tensorflow.keras import regularizers\n",
        "import tensorflow.keras.initializers\n",
        "\n"
      ]
    },
    {
      "cell_type": "code",
      "execution_count": null,
      "metadata": {
        "id": "xqPXJd6Yhwty"
      },
      "outputs": [],
      "source": [
        "depth = 1\n",
        "\n",
        "data = np.load(f'depth_{depth}_injs.npz')"
      ]
    },
    {
      "cell_type": "code",
      "execution_count": null,
      "metadata": {
        "id": "wOC4oQHfiExf"
      },
      "outputs": [],
      "source": [
        "x, y = data['x'], data['y']"
      ]
    },
    {
      "cell_type": "code",
      "execution_count": null,
      "metadata": {
        "id": "V9XrCaW3mLfH",
        "colab": {
          "base_uri": "https://localhost:8080/"
        },
        "outputId": "4c849aa6-9e92-4cb2-c578-0d9b996d3223"
      },
      "outputs": [
        {
          "output_type": "execute_result",
          "data": {
            "text/plain": [
              "array([1., 1., 1., ..., 0., 0., 1.])"
            ]
          },
          "metadata": {},
          "execution_count": 9
        }
      ],
      "source": [
        "y"
      ]
    },
    {
      "cell_type": "code",
      "execution_count": null,
      "metadata": {
        "id": "WxXojB6rLsU8",
        "colab": {
          "base_uri": "https://localhost:8080/"
        },
        "outputId": "d12aab0c-7be9-47db-994d-5a79a71e38c3"
      },
      "outputs": [
        {
          "output_type": "execute_result",
          "data": {
            "text/plain": [
              "((2500, 10, 47, 4), (2500,))"
            ]
          },
          "metadata": {},
          "execution_count": 10
        }
      ],
      "source": [
        "x.shape, y.shape"
      ]
    },
    {
      "cell_type": "code",
      "execution_count": null,
      "metadata": {
        "id": "G6M3AIkbLtPq",
        "colab": {
          "base_uri": "https://localhost:8080/",
          "height": 183
        },
        "outputId": "9a692aa8-fa09-486f-e1bf-8d8e2332bf16"
      },
      "outputs": [
        {
          "output_type": "execute_result",
          "data": {
            "text/plain": [
              "<matplotlib.image.AxesImage at 0x7ff485e07f70>"
            ]
          },
          "metadata": {},
          "execution_count": 11
        },
        {
          "output_type": "display_data",
          "data": {
            "text/plain": [
              "<Figure size 640x480 with 1 Axes>"
            ],
            "image/png": "[encoded data removed]"
          },
          "metadata": {}
        }
      ],
      "source": [
        "idx = 0\n",
        "\n",
        "plt.imshow(x[idx,:,:,0]**2 + x[idx,:,:,1]**2)"
      ]
    },
    {
      "cell_type": "code",
      "execution_count": null,
      "metadata": {
        "id": "K8Lo_LyZLugk",
        "colab": {
          "base_uri": "https://localhost:8080/",
          "height": 183
        },
        "outputId": "96fb08f6-f6d5-4016-dbb2-0bd5bf5bfd0d"
      },
      "outputs": [
        {
          "output_type": "execute_result",
          "data": {
            "text/plain": [
              "<matplotlib.image.AxesImage at 0x7ff4819412a0>"
            ]
          },
          "metadata": {},
          "execution_count": 12
        },
        {
          "output_type": "display_data",
          "data": {
            "text/plain": [
              "<Figure size 640x480 with 1 Axes>"
            ],
            "image/png": "[encoded data removed]"
          },
          "metadata": {}
        }
      ],
      "source": [
        "plt.imshow(x[idx,:,:,2]**2 + x[idx,:,:,3]**2)"
      ]
    },
    {
      "cell_type": "code",
      "execution_count": null,
      "metadata": {
        "id": "WNwkiFx3Qrt9"
      },
      "outputs": [],
      "source": [
        "# x"
      ]
    },
    {
      "cell_type": "code",
      "execution_count": null,
      "metadata": {
        "colab": {
          "base_uri": "https://localhost:8080/"
        },
        "id": "2rfSHKCJqQyb",
        "outputId": "579c43e5-89ec-4c34-ebad-62577900130b"
      },
      "outputs": [
        {
          "output_type": "execute_result",
          "data": {
            "text/plain": [
              "(2500, 10, 47, 4)"
            ]
          },
          "metadata": {},
          "execution_count": 14
        }
      ],
      "source": [
        "x.shape"
      ]
    },
    {
      "cell_type": "code",
      "execution_count": null,
      "metadata": {
        "id": "RGd-tJW2qSE_"
      },
      "outputs": [],
      "source": [
        "# x = np.transpose(x, (0, 2, 3, 1))"
      ]
    },
    {
      "cell_type": "code",
      "execution_count": null,
      "metadata": {
        "colab": {
          "base_uri": "https://localhost:8080/"
        },
        "id": "khkkVmvcO2vM",
        "outputId": "febd8876-c424-45f8-d2db-ab5b2926af83"
      },
      "outputs": [
        {
          "output_type": "execute_result",
          "data": {
            "text/plain": [
              "(2500, 10, 47, 4)"
            ]
          },
          "metadata": {},
          "execution_count": 16
        }
      ],
      "source": [
        "from sklearn.model_selection import train_test_split\n",
        "\n",
        "# from sklearn.preprocessing import normalize\n",
        "# \n",
        "# scaled_x_s = np.array(x)\n",
        "\n",
        "scaled_x_s = x\n",
        "scaled_x_s.shape"
      ]
    },
    {
      "cell_type": "code",
      "execution_count": null,
      "metadata": {
        "colab": {
          "base_uri": "https://localhost:8080/"
        },
        "id": "-y8g98NSQanD",
        "outputId": "16318e57-76dc-407e-fbf7-fff0887b4414"
      },
      "outputs": [
        {
          "output_type": "execute_result",
          "data": {
            "text/plain": [
              "((1875, 10, 47, 4), (313, 10, 47, 4), (312, 10, 47, 4))"
            ]
          },
          "metadata": {},
          "execution_count": 17
        }
      ],
      "source": [
        "shuffle = False\n",
        "\n",
        "x_train_s, x_test_s, y_train_s, y_test_s = train_test_split(x, y, test_size=0.25, random_state=42, shuffle=shuffle)\n",
        "x_test_s, x_val_s, y_test_s, y_val_s = train_test_split(x_test_s, y_test_s, test_size=0.5, random_state=26, shuffle=shuffle)\n",
        "\n",
        "x_train_s.shape, x_val_s.shape, x_test_s.shape"
      ]
    },
    {
      "cell_type": "code",
      "execution_count": null,
      "metadata": {
        "colab": {
          "base_uri": "https://localhost:8080/"
        },
        "id": "6zK9Wgn4yIYy",
        "outputId": "ecab01f7-226c-4b19-affe-3b33ba373078"
      },
      "outputs": [
        {
          "output_type": "execute_result",
          "data": {
            "text/plain": [
              "(array([1., 1., 1., 1., 1.]), (47, 10))"
            ]
          },
          "metadata": {},
          "execution_count": 18
        }
      ],
      "source": [
        "y_train_s[:5], x_train_s[0,:,:,0].T.shape"
      ]
    },
    {
      "cell_type": "code",
      "execution_count": null,
      "metadata": {
        "colab": {
          "base_uri": "https://localhost:8080/",
          "height": 183
        },
        "id": "LfezuMcyyBYD",
        "outputId": "94d40bcb-83d5-4030-8c7d-d792fdb26650"
      },
      "outputs": [
        {
          "output_type": "execute_result",
          "data": {
            "text/plain": [
              "<matplotlib.image.AxesImage at 0x7ff4819e9840>"
            ]
          },
          "metadata": {},
          "execution_count": 19
        },
        {
          "output_type": "display_data",
          "data": {
            "text/plain": [
              "<Figure size 640x480 with 1 Axes>"
            ],
            "image/png": "[encoded data removed]"
          },
          "metadata": {}
        }
      ],
      "source": [
        "plt.imshow(x_train_s[1,:,:,0]**2 + x_train_s[1,:,:,1]**2)"
      ]
    },
    {
      "cell_type": "code",
      "execution_count": null,
      "metadata": {
        "id": "3VGTbg1MJzwh"
      },
      "outputs": [],
      "source": []
    },
    {
      "cell_type": "code",
      "execution_count": null,
      "metadata": {
        "colab": {
          "base_uri": "https://localhost:8080/"
        },
        "id": "dkViciRyQrAe",
        "outputId": "a2ebe0af-10fd-4a59-9da3-fc6c95162716"
      },
      "outputs": [
        {
          "output_type": "execute_result",
          "data": {
            "text/plain": [
              "(1875, 10, 47, 4)"
            ]
          },
          "metadata": {},
          "execution_count": 20
        }
      ],
      "source": [
        "# x_train_s = np.expand_dims(x_train_s, -1)\n",
        "# x_test_s = np.expand_dims(x_test_s, -1)\n",
        "# x_val_s = np.expand_dims(x_val_s, -1)\n",
        "\n",
        "# y_train_s = np.expand_dims(y_train_s, -1)\n",
        "# y_test_s = np.expand_dims(y_test_s, -1)\n",
        "# y_val_s = np.expand_dims(y_val_s, -1)\n",
        "\n",
        "x_train_s.shape"
      ]
    },
    {
      "cell_type": "code",
      "execution_count": null,
      "metadata": {
        "id": "7BNFWOO7QsO9"
      },
      "outputs": [],
      "source": [
        "# def convert_to_tensor_utility(x):\n",
        "#     return tf.convert_to_tensor(x, dtype=tf.float32)\n",
        "\n",
        " \n",
        "# x_train_s, y_train_s, x_test_s, y_test_s, x_val_s, y_val_s = tuple(map(convert_to_tensor_utility, [x_train_s, y_train_s, x_test_s, y_test_s, x_val_s, y_val_s]))"
      ]
    },
    {
      "cell_type": "code",
      "execution_count": null,
      "metadata": {
        "colab": {
          "base_uri": "https://localhost:8080/"
        },
        "id": "NYnrKOMkQteX",
        "outputId": "6335c4df-5796-4e43-e6ee-3f0f5033393c"
      },
      "outputs": [
        {
          "output_type": "execute_result",
          "data": {
            "text/plain": [
              "((1875, 10, 47, 4), (1875,))"
            ]
          },
          "metadata": {},
          "execution_count": 22
        }
      ],
      "source": [
        "x_train_s.shape, y_train_s.shape"
      ]
    },
    {
      "cell_type": "code",
      "execution_count": null,
      "metadata": {
        "colab": {
          "base_uri": "https://localhost:8080/"
        },
        "id": "w6NPK20wQu-7",
        "outputId": "2767068b-8bbd-47d6-d65d-7ed0c8a55aae"
      },
      "outputs": [
        {
          "output_type": "execute_result",
          "data": {
            "text/plain": [
              "((1875,), (312,), (313,))"
            ]
          },
          "metadata": {},
          "execution_count": 23
        }
      ],
      "source": [
        "y_train_s.shape, y_test_s.shape, y_val_s.shape"
      ]
    },
    {
      "cell_type": "code",
      "execution_count": null,
      "metadata": {
        "id": "EoRSHSbcQwIn"
      },
      "outputs": [],
      "source": [
        "batch_size = 64"
      ]
    },
    {
      "cell_type": "code",
      "execution_count": null,
      "metadata": {
        "id": "bsuqeB6YRB8C"
      },
      "outputs": [],
      "source": [
        "train_dataset = tf.data.Dataset.from_tensor_slices((x_train_s, y_train_s)).batch(batch_size)\n",
        "test_dataset = tf.data.Dataset.from_tensor_slices((x_test_s, y_test_s)).batch(batch_size)\n",
        "val_dataset = tf.data.Dataset.from_tensor_slices((x_val_s, y_val_s)).batch(batch_size)"
      ]
    },
    {
      "cell_type": "code",
      "execution_count": null,
      "metadata": {
        "colab": {
          "base_uri": "https://localhost:8080/"
        },
        "id": "Iry70YHfqBAQ",
        "outputId": "04de93f0-05b7-4e85-88af-97b3f4d8baef"
      },
      "outputs": [
        {
          "output_type": "execute_result",
          "data": {
            "text/plain": [
              "((1875, 10, 47, 4), 47)"
            ]
          },
          "metadata": {},
          "execution_count": 26
        }
      ],
      "source": [
        "x_train_s.shape, x_train_s.shape[2]"
      ]
    },
    {
      "cell_type": "code",
      "execution_count": null,
      "metadata": {
        "colab": {
          "base_uri": "https://localhost:8080/"
        },
        "id": "P_0eTthOvyEQ",
        "outputId": "1abc5a41-d6b8-486f-d03a-e84c6038fa1f"
      },
      "outputs": [
        {
          "output_type": "execute_result",
          "data": {
            "text/plain": [
              "array([1., 1., 1., 1.])"
            ]
          },
          "metadata": {},
          "execution_count": 27
        }
      ],
      "source": [
        "y_train_s[:4]"
      ]
    },
    {
      "cell_type": "code",
      "execution_count": null,
      "metadata": {
        "colab": {
          "base_uri": "https://localhost:8080/",
          "height": 183
        },
        "id": "cbevP2pBvkKL",
        "outputId": "093808bc-91c8-4fed-9a3c-52908a791991"
      },
      "outputs": [
        {
          "output_type": "execute_result",
          "data": {
            "text/plain": [
              "<matplotlib.image.AxesImage at 0x7ff481880df0>"
            ]
          },
          "metadata": {},
          "execution_count": 28
        },
        {
          "output_type": "display_data",
          "data": {
            "text/plain": [
              "<Figure size 640x480 with 1 Axes>"
            ],
            "image/png": "[encoded data removed]"
          },
          "metadata": {}
        }
      ],
      "source": [
        "plt.imshow(np.abs(x_train_s[0,:,:,0]**2 + x_train_s[0,:,:,1]**2))"
      ]
    },
    {
      "cell_type": "code",
      "source": [
        "# x_vals_s.shape, y_val_s.shape"
      ],
      "metadata": {
        "colab": {
          "base_uri": "https://localhost:8080/",
          "height": 165
        },
        "id": "w6kmYJewRpd8",
        "outputId": "7245dd50-35a6-4f31-f4ba-14cc275a6d1a"
      },
      "execution_count": null,
      "outputs": [
        {
          "output_type": "error",
          "ename": "NameError",
          "evalue": "ignored",
          "traceback": [
            "\u001b[0;31m---------------------------------------------------------------------------\u001b[0m",
            "\u001b[0;31mNameError\u001b[0m                                 Traceback (most recent call last)",
            "\u001b[0;32m<ipython-input-29-bf668e80d427>\u001b[0m in \u001b[0;36m<cell line: 1>\u001b[0;34m()\u001b[0m\n\u001b[0;32m----> 1\u001b[0;31m \u001b[0mx_vals_s\u001b[0m\u001b[0;34m.\u001b[0m\u001b[0mshape\u001b[0m\u001b[0;34m,\u001b[0m \u001b[0my_val_s\u001b[0m\u001b[0;34m.\u001b[0m\u001b[0mshape\u001b[0m\u001b[0;34m\u001b[0m\u001b[0;34m\u001b[0m\u001b[0m\n\u001b[0m",
            "\u001b[0;31mNameError\u001b[0m: name 'x_vals_s' is not defined"
          ]
        }
      ]
    },
    {
      "cell_type": "code",
      "source": [
        "def get_p_det_metric(y_true, y_pred):\n",
        "    fpr, tpr, thresholds = roc_curve(y_true, y_pred)\n",
        "    return np.interp(0.01, fpr, tpr)\n",
        "    "
      ],
      "metadata": {
        "id": "vMxKCo2Ll76j"
      },
      "execution_count": null,
      "outputs": []
    },
    {
      "cell_type": "code",
      "source": [
        "def p_det_metric(y_true, y_pred): \n",
        "    return tf.numpy_function(get_p_det_metric, (y_true, y_pred), tf.double)\n",
        "\n",
        "\n",
        "# interpolate.interp1d(fpr, tpr)(0.01)"
      ],
      "metadata": {
        "id": "kEV2J7MSRpgI"
      },
      "execution_count": null,
      "outputs": []
    },
    {
      "cell_type": "code",
      "source": [],
      "metadata": {
        "id": "EwIC4Gp3l7Tc"
      },
      "execution_count": null,
      "outputs": []
    },
    {
      "cell_type": "code",
      "source": [
        "class RocCallback(tf.keras.callbacks.Callback):\n",
        "    def __init__(self, x_val, y_val):\n",
        "        # self.x = training_data[0]\n",
        "        # self.y = training_data[1]\n",
        "        # self.x_val = validation_data[0]\n",
        "        # self.y_val = validation_data[1]\n",
        "\n",
        "        self.x_val = x_val\n",
        "        self.y_val = y_val\n",
        "\n",
        "\n",
        "    def on_train_begin(self, logs={}):\n",
        "        return\n",
        "\n",
        "    def on_train_end(self, logs={}):\n",
        "        return\n",
        "\n",
        "    def on_epoch_begin(self, epoch, logs={}):\n",
        "        return\n",
        "\n",
        "    def on_epoch_end(self, epoch, logs={}):\n",
        "        \n",
        "        y_pred = tf_model.predict(self.x_val, batch_size=len(self.y_val))\n",
        "\n",
        "\n",
        "        fpr, tpr, thresholds = roc_curve(self.y_val, y_pred)\n",
        "\n",
        "       \n",
        "        print( \"p_det @ 1% false alarm rate is \", interpolate.interp1d(fpr, tpr)(0.01) )\n",
        "        \n",
        "        # print('\\rroc-auc_train: %s - roc-auc_val: %s' % (str(round(roc_train,4)),str(round(roc_val,4))),end=100*' '+'\\n')\n",
        "        return\n",
        "\n",
        "    def on_batch_begin(self, batch, logs={}):\n",
        "        return\n",
        "\n",
        "    def on_batch_end(self, batch, logs={}):\n",
        "        return\n",
        "\n",
        "roc = RocCallback(x_val_s, y_val_s)"
      ],
      "metadata": {
        "id": "Tmw5qTooQnNc"
      },
      "execution_count": null,
      "outputs": []
    },
    {
      "cell_type": "code",
      "execution_count": null,
      "metadata": {
        "id": "sP62CAGtRCjV"
      },
      "outputs": [],
      "source": [
        "# Define the model.\n",
        "\n",
        "# act = tf.keras.layers.LeakyReLU(alpha=0.01)\n",
        "act = 'relu'\n",
        "\n",
        "reg = tf.keras.regularizers.L2(\n",
        "    l2=0.01)\n",
        "\n",
        "input = tf.keras.Input(shape=(x_train_s.shape[1], x_train_s.shape[2], x_train_s.shape[3],))\n",
        "x_layer = tf.keras.layers.Conv1D(32, (30), strides=4, kernel_regularizer=reg, activation=act, kernel_initializer='he_normal')(input)\n",
        "x_layer = tf.keras.layers.Conv2D(32, (2, 4), kernel_regularizer=reg, strides=(1, 2), activation=act, kernel_initializer='he_normal')(x_layer)\n",
        "x_layer = tf.keras.layers.Flatten()(x_layer)\n",
        "# x = tf.keras.layers.Dense(16, activation=act)(x)\n",
        "# x_layer = tf.keras.layers.Dense(16, activation=act, kernel_regularizer=reg)(x_layer)\n",
        "x_layer = tf.keras.layers.Dense(8, activation=act, kernel_regularizer=reg)(x_layer)\n",
        "x_layer = tf.keras.layers.Dense(4, activation=act, kernel_regularizer=reg)(x_layer)\n",
        "x_layer = tf.keras.layers.Dense(1, activation='sigmoid')(x_layer)"
      ]
    },
    {
      "cell_type": "code",
      "execution_count": null,
      "metadata": {
        "id": "7NIRKcLFRK45"
      },
      "outputs": [],
      "source": [
        "tf_model = tf.keras.Model(inputs=input, outputs=x_layer)"
      ]
    },
    {
      "cell_type": "code",
      "execution_count": null,
      "metadata": {
        "id": "n3qlDI3uUuZv"
      },
      "outputs": [],
      "source": [
        "tf_model.compile(\n",
        "                optimizer='adam',\n",
        "                 loss='binary_crossentropy',\n",
        "              metrics=['accuracy', p_det_metric],\n",
        "                )"
      ]
    },
    {
      "cell_type": "code",
      "execution_count": null,
      "metadata": {
        "colab": {
          "base_uri": "https://localhost:8080/"
        },
        "id": "DaqkkfcTUxjV",
        "outputId": "2ff763fa-1ed3-43d7-8682-566f5cbfca9a"
      },
      "outputs": [
        {
          "output_type": "stream",
          "name": "stdout",
          "text": [
            "Model: \"model_10\"\n",
            "_________________________________________________________________\n",
            " Layer (type)                Output Shape              Param #   \n",
            "=================================================================\n",
            " input_12 (InputLayer)       [(None, 10, 47, 4)]       0         \n",
            "                                                                 \n",
            " conv1d_11 (Conv1D)          (None, 10, 5, 32)         3872      \n",
            "                                                                 \n",
            " conv2d_11 (Conv2D)          (None, 9, 1, 32)          8224      \n",
            "                                                                 \n",
            " flatten_11 (Flatten)        (None, 288)               0         \n",
            "                                                                 \n",
            " dense_33 (Dense)            (None, 8)                 2312      \n",
            "                                                                 \n",
            " dense_34 (Dense)            (None, 4)                 36        \n",
            "                                                                 \n",
            " dense_35 (Dense)            (None, 1)                 5         \n",
            "                                                                 \n",
            "=================================================================\n",
            "Total params: 14,449\n",
            "Trainable params: 14,449\n",
            "Non-trainable params: 0\n",
            "_________________________________________________________________\n"
          ]
        }
      ],
      "source": [
        "tf_model.summary()"
      ]
    },
    {
      "cell_type": "code",
      "execution_count": null,
      "metadata": {
        "colab": {
          "base_uri": "https://localhost:8080/",
          "height": 1000
        },
        "id": "AI5LOWs_Uyjm",
        "outputId": "ff597cc9-4233-4ad4-beb3-246251885945"
      },
      "outputs": [
        {
          "output_type": "stream",
          "name": "stdout",
          "text": [
            "Epoch 1/25\n",
            "[0. 0. 0. 1.] [0.         0.02777778 1.         1.        ]\n",
            " 1/30 [>.............................] - ETA: 0s - loss: 1.1086 - accuracy: 1.0000 - p_det_metric: 1.0000[0. 0. 0. 1.] [0.         0.03846154 1.         1.        ]\n",
            "[0. 0. 0. 1.] [0.         0.05882353 1.         1.        ]\n",
            "[0. 0. 0. 1.] [0.         0.08571429 1.         1.        ]\n",
            "[0. 0. 0. 1.] [0.         0.03333333 1.         1.        ]\n",
            " 5/30 [====>.........................] - ETA: 0s - loss: 1.1035 - accuracy: 0.9937 - p_det_metric: 1.0000[0. 0. 0. 1.] [0.         0.05555556 1.         1.        ]\n",
            "[0. 0. 0. 1.] [0.     0.0625 1.     1.    ]\n",
            "[0. 0. 0. 1.] [0.         0.02272727 1.         1.        ]\n",
            "[0. 0. 0. 1.] [0.         0.12903226 1.         1.        ]\n",
            "[0. 0. 0. 1.] [0.         0.02777778 1.         1.        ]\n",
            "10/30 [=========>....................] - ETA: 0s - loss: 1.0741 - accuracy: 0.9953 - p_det_metric: 1.0000[0. 0. 0. 1.] [0.         0.11428571 1.         1.        ]\n",
            "[0. 0. 0. 1.] [0.         0.07142857 1.         1.        ]\n",
            "[0. 0. 0. 1.] [0.         0.17647059 1.         1.        ]\n",
            "[0. 0. 0. 1.] [0.      0.15625 1.      1.     ]\n",
            "[0. 0. 0. 1.] [0.         0.03333333 1.         1.        ]\n",
            "15/30 [==============>...............] - ETA: 0s - loss: 1.0490 - accuracy: 0.9917 - p_det_metric: 1.0000[0. 0. 0. 1.] [0.         0.03030303 1.         1.        ]\n",
            "[0. 0. 0. 1.] [0.         0.09090909 1.         1.        ]\n",
            "[0. 0. 0. 1.] [0.         0.03571429 1.         1.        ]\n",
            "[0. 0. 0. 1.] [0.         0.06060606 1.         1.        ]\n",
            "19/30 [==================>...........] - ETA: 0s - loss: 1.0350 - accuracy: 0.9918 - p_det_metric: 1.0000[0. 0. 0. 1.] [0.      0.03125 1.      1.     ]\n",
            "[0. 0. 0. 1.] [0.         0.07317073 1.         1.        ]\n",
            "[0. 0. 0. 1.] [0.         0.06896552 1.         1.        ]\n",
            "[0. 0. 0. 1.] [0.    0.125 1.    1.   ]\n",
            "[0. 0. 0. 1.] [0.     0.0625 1.     1.    ]\n",
            "24/30 [=======================>......] - ETA: 0s - loss: 1.0156 - accuracy: 0.9928 - p_det_metric: 1.0000[0. 0. 0. 1.] [0.         0.06896552 1.         1.        ]\n",
            "[0. 0. 0. 1.] [0.         0.02857143 1.         1.        ]\n",
            "[0. 0. 0. 1.] [0.         0.03030303 1.         1.        ]\n",
            "[0. 0. 0. 1.] [0.         0.03333333 1.         1.        ]\n",
            "28/30 [===========================>..] - ETA: 0s - loss: 1.0043 - accuracy: 0.9927 - p_det_metric: 1.0000[0. 0. 0. 1.] [0.         0.06666667 1.         1.        ]\n",
            "[0. 0. 0. 1.] [0.         0.14285714 1.         1.        ]\n",
            "[0. 0. 0. 1.] [0.         0.02702703 1.         1.        ]\n",
            "[0. 0. 0. 1.] [0.         0.03571429 1.         1.        ]\n",
            "[0. 0. 0. 1.] [0.         0.05882353 1.         1.        ]\n",
            "[0. 0. 0. 1.] [0.         0.09677419 1.         1.        ]\n",
            "[0. 0. 0. 1.] [0.         0.03225806 1.         1.        ]\n",
            "1/1 [==============================] - 0s 28ms/step\n",
            "p_det @ 1% false alarm rate is  1.0\n",
            "30/30 [==============================] - 1s 18ms/step - loss: 1.0001 - accuracy: 0.9931 - p_det_metric: 1.0000 - val_loss: 0.9025 - val_accuracy: 0.9904 - val_p_det_metric: 1.0000\n",
            "Epoch 2/25\n",
            "[0. 0. 0. 1.] [0.         0.05555556 1.         1.        ]\n",
            " 1/30 [>.............................] - ETA: 0s - loss: 0.8888 - accuracy: 1.0000 - p_det_metric: 1.0000[0. 0. 0. 1.] [0.         0.15384615 1.         1.        ]\n",
            "[0. 0. 0. 1.] [0.         0.11764706 1.         1.        ]\n",
            "[0. 0. 0. 1.] [0.         0.11428571 1.         1.        ]\n",
            "[0. 0. 0. 1.] [0.         0.03333333 1.         1.        ]\n",
            "[0. 0. 0. 1.] [0.         0.08333333 1.         1.        ]\n",
            " 6/30 [=====>........................] - ETA: 0s - loss: 0.8884 - accuracy: 0.9896 - p_det_metric: 1.0000[0. 0. 0. 1.] [0.     0.0625 1.     1.    ]\n",
            "[0. 0. 0. 1.] [0.         0.09090909 1.         1.        ]\n",
            "[0. 0. 0. 1.] [0.         0.12903226 1.         1.        ]\n",
            "[0. 0. 0. 1.] [0.         0.05555556 1.         1.        ]\n",
            "10/30 [=========>....................] - ETA: 0s - loss: 0.8742 - accuracy: 0.9922 - p_det_metric: 1.0000[0. 0. 0. 1.] [0.         0.14285714 1.         1.        ]\n",
            "[0. 0. 0. 1.] [0.         0.17857143 1.         1.        ]\n",
            "[0. 0. 0. 1.] [0.         0.23529412 1.         1.        ]\n",
            "[0. 0. 0. 1.] [0.      0.15625 1.      1.     ]\n",
            "[0. 0. 0. 1.] [0.         0.06666667 1.         1.        ]\n",
            "15/30 [==============>...............] - ETA: 0s - loss: 0.8605 - accuracy: 0.9917 - p_det_metric: 1.0000[0. 0. 0. 1.] [0.         0.12121212 1.         1.        ]\n",
            "[0. 0. 0. 1.] [0.         0.12121212 1.         1.        ]\n",
            "[0. 0. 0. 1.] [0.         0.07142857 1.         1.        ]\n",
            "[0. 0. 0. 1.] [0.         0.06060606 1.         1.        ]\n",
            "19/30 [==================>...........] - ETA: 0s - loss: 0.8524 - accuracy: 0.9918 - p_det_metric: 1.0000[0. 0. 0. 1.] [0.      0.03125 1.      1.     ]\n",
            "[0. 0. 0. 1.] [0.         0.12195122 1.         1.        ]\n",
            "[0. 0. 0. 1.] [0.         0.13793103 1.         1.        ]\n",
            "[0. 0. 0. 1.] [0.    0.125 1.    1.   ]\n",
            "[0. 0. 0. 1.] [0.     0.0625 1.     1.    ]\n",
            "24/30 [=======================>......] - ETA: 0s - loss: 0.8401 - accuracy: 0.9922 - p_det_metric: 1.0000[0. 0. 0. 1.] [0.         0.10344828 1.         1.        ]\n",
            "[0. 0. 0. 1.] [0.         0.05714286 1.         1.        ]\n",
            "[0. 0. 0. 1.] [0.         0.03030303 1.         1.        ]\n",
            "[0. 0. 0. 1.] [0.         0.06666667 1.         1.        ]\n",
            "28/30 [===========================>..] - ETA: 0s - loss: 0.8337 - accuracy: 0.9927 - p_det_metric: 1.0000[0. 0. 0. 1.] [0.  0.1 1.  1. ]\n",
            "[0. 0. 0. 1.] [0.         0.14285714 1.         1.        ]\n",
            "[0. 0. 0. 1.] [0.         0.05405405 1.         1.        ]\n",
            "[0. 0. 0. 1.] [0.         0.03571429 1.         1.        ]\n",
            "[0. 0. 0. 1.] [0.         0.05882353 1.         1.        ]\n",
            "[0. 0. 0. 1.] [0.         0.16129032 1.         1.        ]\n",
            "[0. 0. 0. 1.] [0.         0.03225806 1.         1.        ]\n",
            "1/1 [==============================] - 0s 27ms/step\n",
            "p_det @ 1% false alarm rate is  1.0\n",
            "30/30 [==============================] - 1s 17ms/step - loss: 0.8310 - accuracy: 0.9931 - p_det_metric: 1.0000 - val_loss: 0.7728 - val_accuracy: 0.9968 - val_p_det_metric: 1.0000\n",
            "Epoch 3/25\n",
            "[0. 0. 0. 1.] [0.         0.08333333 1.         1.        ]\n",
            " 1/30 [>.............................] - ETA: 0s - loss: 0.7588 - accuracy: 1.0000 - p_det_metric: 1.0000[0. 0. 0. 1.] [0.         0.19230769 1.         1.        ]\n",
            "[0. 0. 0. 1.] [0.         0.20588235 1.         1.        ]\n",
            "[0. 0. 0. 1.] [0.         0.17142857 1.         1.        ]\n",
            "[0. 0. 0. 1.] [0.  0.1 1.  1. ]\n",
            "[0. 0. 0. 0. 1.] [0.         0.08333333 0.13888889 1.         1.        ]\n",
            " 6/30 [=====>........................] - ETA: 0s - loss: 0.7648 - accuracy: 0.9922 - p_det_metric: 1.0000[0. 0. 0. 1.] [0.      0.09375 1.      1.     ]\n",
            "[0. 0. 0. 1.] [0.         0.11363636 1.         1.        ]\n",
            "[0. 0. 0. 1.] [0.         0.16129032 1.         1.        ]\n",
            "[0. 0. 0. 1.] [0.         0.05555556 1.         1.        ]\n",
            "10/30 [=========>....................] - ETA: 0s - loss: 0.7560 - accuracy: 0.9937 - p_det_metric: 1.0000[0. 0. 0. 1.] [0.         0.14285714 1.         1.        ]\n",
            "[0. 0. 0. 1.] [0.         0.17857143 1.         1.        ]\n",
            "[0. 0. 0. 0. 1.] [0.         0.29411765 0.38235294 1.         1.        ]\n",
            "[0. 0. 0. 1.] [0.      0.15625 1.      1.     ]\n",
            "14/30 [=============>................] - ETA: 0s - loss: 0.7502 - accuracy: 0.9944 - p_det_metric: 1.0000[0. 0. 0. 1.] [0.         0.13333333 1.         1.        ]\n",
            "[0. 0. 0. 1.] [0.         0.12121212 1.         1.        ]\n",
            "[0. 0. 0. 1.] [0.         0.15151515 1.         1.        ]\n",
            "[0. 0. 0. 1.] [0.         0.10714286 1.         1.        ]\n",
            "18/30 [=================>............] - ETA: 0s - loss: 0.7416 - accuracy: 0.9957 - p_det_metric: 1.0000[0. 0. 0. 1.] [0.         0.06060606 1.         1.        ]\n",
            "[0. 0. 0. 1.] [0.     0.0625 1.     1.    ]\n",
            "[0. 0. 0. 1.] [0.         0.12195122 1.         1.        ]\n",
            "[0. 0. 0. 1.] [0.         0.13793103 1.         1.        ]\n",
            "22/30 [=====================>........] - ETA: 0s - loss: 0.7361 - accuracy: 0.9950 - p_det_metric: 1.0000[0. 0. 0. 1.] [0.    0.125 1.    1.   ]\n",
            "[0. 0. 0. 1.] [0.     0.0625 1.     1.    ]\n",
            "[0. 0. 0. 1.] [0.         0.13793103 1.         1.        ]\n",
            "[0. 0. 0. 1.] [0.         0.08571429 1.         1.        ]\n",
            "26/30 [=========================>....] - ETA: 0s - loss: 0.7304 - accuracy: 0.9952 - p_det_metric: 1.0000[0. 0. 0. 1.] [0.         0.03030303 1.         1.        ]\n",
            "[0. 0. 0. 1.] [0.         0.06666667 1.         1.        ]\n",
            "[0. 0. 0. 1.] [0.  0.1 1.  1. ]\n",
            "[0. 0. 0. 1.] [0.         0.14285714 1.         1.        ]\n",
            "30/30 [==============================] - ETA: 0s - loss: 0.7257 - accuracy: 0.9957 - p_det_metric: 1.0000[0. 0. 0. 1.] [0.         0.05405405 1.         1.        ]\n",
            "[0. 0. 0. 1.] [0.         0.03571429 1.         1.        ]\n",
            "[0. 0. 0. 1.] [0.         0.05882353 1.         1.        ]\n",
            "[0. 0. 0. 1.] [0.         0.16129032 1.         1.        ]\n",
            "[0. 0. 0. 1.] [0.         0.03225806 1.         1.        ]\n",
            "1/1 [==============================] - 0s 27ms/step\n",
            "p_det @ 1% false alarm rate is  1.0\n",
            "30/30 [==============================] - 1s 19ms/step - loss: 0.7257 - accuracy: 0.9957 - p_det_metric: 1.0000 - val_loss: 0.6840 - val_accuracy: 0.9968 - val_p_det_metric: 1.0000\n",
            "Epoch 4/25\n",
            "[0. 0. 0. 1.] [0.         0.08333333 1.         1.        ]\n",
            " 1/30 [>.............................] - ETA: 0s - loss: 0.6723 - accuracy: 1.0000 - p_det_metric: 1.0000[0. 0. 0. 1.] [0.         0.19230769 1.         1.        ]\n",
            "[0. 0. 0. 1.] [0.         0.20588235 1.         1.        ]\n",
            "[0. 0. 0. 1.] [0.         0.17142857 1.         1.        ]\n",
            "[0. 0. 0. 1.] [0.         0.16666667 1.         1.        ]\n",
            " 5/30 [====>.........................] - ETA: 0s - loss: 0.6772 - accuracy: 0.9906 - p_det_metric: 1.0000[0. 0. 0. 0. 1.] [0.         0.08333333 0.13888889 1.         1.        ]\n",
            "[0. 0. 0. 1.] [0.      0.09375 1.      1.     ]\n",
            "[0. 0. 0. 1.] [0.         0.13636364 1.         1.        ]\n",
            "[0. 0. 0. 1.] [0.         0.16129032 1.         1.        ]\n",
            " 9/30 [========>.....................] - ETA: 0s - loss: 0.6711 - accuracy: 0.9948 - p_det_metric: 1.0000[0. 0. 0. 1.] [0.         0.05555556 1.         1.        ]\n",
            "[0. 0. 0. 1.] [0.         0.14285714 1.         1.        ]\n",
            "[0. 0. 0. 1.] [0.         0.17857143 1.         1.        ]\n",
            "[0. 0. 0. 1.] [0.         0.35294118 1.         1.        ]\n",
            "[0. 0. 0. 1.] [0.      0.15625 1.      1.     ]\n",
            "14/30 [=============>................] - ETA: 0s - loss: 0.6647 - accuracy: 0.9944 - p_det_metric: 1.0000[0. 0. 0. 1.] [0.         0.13333333 1.         1.        ]\n",
            "[0. 0. 0. 1.] [0.         0.15151515 1.         1.        ]\n",
            "[0. 0. 0. 1.] [0.         0.15151515 1.         1.        ]\n",
            "17/30 [================>.............] - ETA: 0s - loss: 0.6591 - accuracy: 0.9954 - p_det_metric: 1.0000[0. 0. 0. 1.] [0.         0.10714286 1.         1.        ]\n",
            "[0. 0. 0. 1.] [0.         0.06060606 1.         1.        ]\n",
            "[0. 0. 0. 1.] [0.      0.09375 1.      1.     ]\n",
            "[0. 0. 0. 1.] [0.         0.12195122 1.         1.        ]\n",
            "21/30 [====================>.........] - ETA: 0s - loss: 0.6546 - accuracy: 0.9955 - p_det_metric: 1.0000[0. 0. 0. 1.] [0.         0.13793103 1.         1.        ]\n",
            "[0. 0. 0. 1.] [0.    0.125 1.    1.   ]\n",
            "[0. 0. 0. 1.] [0.     0.0625 1.     1.    ]\n",
            "[0. 0. 0. 1.] [0.         0.13793103 1.         1.        ]\n",
            "[0. 0. 0. 1.] [0.         0.08571429 1.         1.        ]\n",
            "26/30 [=========================>....] - ETA: 0s - loss: 0.6483 - accuracy: 0.9958 - p_det_metric: 1.0000[0. 0. 0. 1.] [0.         0.03030303 1.         1.        ]\n",
            "[0. 0. 0. 1.] [0.         0.06666667 1.         1.        ]\n",
            "[0. 0. 0. 1.] [0.  0.1 1.  1. ]\n",
            "[0. 0. 0. 1.] [0.         0.14285714 1.         1.        ]\n",
            "[0. 0. 0. 1.] [0.         0.05405405 1.         1.        ]\n",
            "[0. 0. 0. 1.] [0.         0.03571429 1.         1.        ]\n",
            "[0. 0. 0. 1.] [0.         0.05882353 1.         1.        ]\n",
            "[0. 0. 0. 1.] [0.         0.16129032 1.         1.        ]\n",
            "[0. 0. 0. 1.] [0.         0.06451613 1.         1.        ]\n",
            "1/1 [==============================] - 0s 27ms/step\n",
            "p_det @ 1% false alarm rate is  1.0\n",
            "30/30 [==============================] - 1s 18ms/step - loss: 0.6444 - accuracy: 0.9963 - p_det_metric: 1.0000 - val_loss: 0.6110 - val_accuracy: 0.9968 - val_p_det_metric: 1.0000\n",
            "Epoch 5/25\n",
            "[0. 0. 0. 1.] [0.         0.08333333 1.         1.        ]\n",
            " 1/30 [>.............................] - ETA: 0s - loss: 0.5999 - accuracy: 1.0000 - p_det_metric: 1.0000[0. 0. 0. 1.] [0.         0.19230769 1.         1.        ]\n",
            "[0. 0. 0. 1.] [0.         0.20588235 1.         1.        ]\n",
            "[0. 0. 0. 0. 1.] [0.         0.17142857 0.22857143 1.         1.        ]\n",
            "[0. 0. 0. 1.] [0.         0.16666667 1.         1.        ]\n",
            "[0. 0. 0. 0. 1.] [0.         0.08333333 0.13888889 1.         1.        ]\n",
            " 6/30 [=====>........................] - ETA: 0s - loss: 0.6026 - accuracy: 0.9948 - p_det_metric: 1.0000[0. 0. 0. 1.] [0.      0.09375 1.      1.     ]\n",
            "[0. 0. 0. 1.] [0.         0.13636364 1.         1.        ]\n",
            "[0. 0. 0. 1.] [0.         0.16129032 1.         1.        ]\n",
            "[0. 0. 0. 1.] [0.         0.05555556 1.         1.        ]\n",
            "10/30 [=========>....................] - ETA: 0s - loss: 0.5972 - accuracy: 0.9953 - p_det_metric: 1.0000[0. 0. 0. 1.] [0.         0.17142857 1.         1.        ]\n",
            "[0. 0. 0. 1.] [0.         0.17857143 1.         1.        ]\n",
            "[0. 0. 0. 0. 1.] [0.         0.32352941 0.38235294 1.         1.        ]\n",
            "[0. 0. 0. 1.] [0.      0.15625 1.      1.     ]\n",
            "14/30 [=============>................] - ETA: 0s - loss: 0.5938 - accuracy: 0.9955 - p_det_metric: 1.0000[0. 0. 0. 1.] [0.         0.13333333 1.         1.        ]\n",
            "[0. 0. 0. 1.] [0.         0.15151515 1.         1.        ]\n",
            "[0. 0. 0. 1.] [0.         0.15151515 1.         1.        ]\n",
            "[0. 0. 0. 1.] [0.         0.10714286 1.         1.        ]\n",
            "18/30 [=================>............] - ETA: 0s - loss: 0.5877 - accuracy: 0.9965 - p_det_metric: 1.0000[0. 0. 0. 1.] [0.         0.06060606 1.         1.        ]\n",
            "[0. 0. 0. 1.] [0.      0.09375 1.      1.     ]\n",
            "[0. 0. 0. 1.] [0.         0.12195122 1.         1.        ]\n",
            "[0. 0. 0. 1.] [0.         0.13793103 1.         1.        ]\n",
            "22/30 [=====================>........] - ETA: 0s - loss: 0.5837 - accuracy: 0.9964 - p_det_metric: 1.0000[0. 0. 0. 1.] [0.    0.125 1.    1.   ]\n",
            "[0. 0. 0. 1.] [0.     0.0625 1.     1.    ]\n",
            "[0. 0. 0. 1.] [0.         0.13793103 1.         1.        ]\n",
            "[0. 0. 0. 1.] [0.         0.08571429 1.         1.        ]\n",
            "26/30 [=========================>....] - ETA: 0s - loss: 0.5797 - accuracy: 0.9964 - p_det_metric: 1.0000[0. 0. 0. 1.] [0.         0.03030303 1.         1.        ]\n",
            "[0. 0. 0. 1.] [0.         0.06666667 1.         1.        ]\n",
            "[0. 0. 0. 1.] [0.  0.1 1.  1. ]\n",
            "[0. 0. 0. 1.] [0.         0.14285714 1.         1.        ]\n",
            "[0. 0. 0. 1.] [0.         0.05405405 1.         1.        ]\n",
            "[0. 0. 0. 1.] [0.         0.03571429 1.         1.        ]\n",
            "[0. 0. 0. 1.] [0.         0.05882353 1.         1.        ]\n",
            "[0. 0. 0. 1.] [0.         0.16129032 1.         1.        ]\n",
            "[0. 0. 0. 0. 0. 1.] [0.         0.03225806 0.09677419 0.16129032 1.         1.        ]\n",
            "1/1 [==============================] - 0s 28ms/step\n",
            "p_det @ 1% false alarm rate is  1.0\n",
            "30/30 [==============================] - 1s 18ms/step - loss: 0.5764 - accuracy: 0.9968 - p_det_metric: 1.0000 - val_loss: 0.5489 - val_accuracy: 0.9968 - val_p_det_metric: 1.0000\n",
            "Epoch 6/25\n",
            "[0. 0. 0. 1.] [0.         0.08333333 1.         1.        ]\n",
            " 1/30 [>.............................] - ETA: 1s - loss: 0.5366 - accuracy: 1.0000 - p_det_metric: 1.0000[0. 0. 0. 1.] [0.         0.19230769 1.         1.        ]\n",
            "[0. 0. 0. 1.] [0.         0.20588235 1.         1.        ]\n",
            " 3/30 [==>...........................] - ETA: 0s - loss: 0.5417 - accuracy: 0.9948 - p_det_metric: 1.0000[0. 0. 0. 1.] [0.         0.17142857 1.         1.        ]\n",
            "[0. 0. 0. 1.] [0.         0.16666667 1.         1.        ]\n",
            " 5/30 [====>.........................] - ETA: 0s - loss: 0.5420 - accuracy: 0.9937 - p_det_metric: 1.0000[0. 0. 0. 0. 1.] [0.         0.08333333 0.13888889 1.         1.        ]\n",
            "[0. 0. 0. 1.] [0.      0.09375 1.      1.     ]\n",
            " 7/30 [======>.......................] - ETA: 0s - loss: 0.5414 - accuracy: 0.9955 - p_det_metric: 1.0000[0. 0. 0. 1.] [0.         0.11363636 1.         1.        ]\n",
            "[0. 0. 0. 1.] [0.         0.19354839 1.         1.        ]\n",
            " 9/30 [========>.....................] - ETA: 0s - loss: 0.5375 - accuracy: 0.9965 - p_det_metric: 1.0000[0. 0. 0. 1.] [0.         0.05555556 1.         1.        ]\n",
            "[0. 0. 0. 1.] [0.         0.14285714 1.         1.        ]\n",
            "11/30 [==========>...................] - ETA: 0s - loss: 0.5353 - accuracy: 0.9972 - p_det_metric: 1.0000[0. 0. 0. 1.] [0.         0.17857143 1.         1.        ]\n",
            "[0. 0. 0. 0. 1.] [0.         0.32352941 0.38235294 1.         1.        ]\n",
            "13/30 [============>.................] - ETA: 0s - loss: 0.5343 - accuracy: 0.9964 - p_det_metric: 1.0000[0. 0. 0. 1.] [0.      0.15625 1.      1.     ]\n",
            "[0. 0. 0. 1.] [0.         0.13333333 1.         1.        ]\n",
            "[0. 0. 0. 1.] [0.         0.15151515 1.         1.        ]\n",
            "16/30 [===============>..............] - ETA: 0s - loss: 0.5305 - accuracy: 0.9971 - p_det_metric: 1.0000[0. 0. 0. 1.] [0.         0.18181818 1.         1.        ]\n",
            "[0. 0. 0. 1.] [0.         0.10714286 1.         1.        ]\n",
            "18/30 [=================>............] - ETA: 0s - loss: 0.5280 - accuracy: 0.9974 - p_det_metric: 1.0000[0. 0. 0. 1.] [0.         0.06060606 1.         1.        ]\n",
            "[0. 0. 0. 1.] [0.      0.09375 1.      1.     ]\n",
            "[0. 0. 0. 1.] [0.         0.12195122 1.         1.        ]\n",
            "21/30 [====================>.........] - ETA: 0s - loss: 0.5260 - accuracy: 0.9970 - p_det_metric: 1.0000[0. 0. 0. 1.] [0.         0.13793103 1.         1.        ]\n",
            "[0. 0. 0. 1.] [0.    0.125 1.    1.   ]\n",
            "[0. 0. 0. 1.] [0.     0.0625 1.     1.    ]\n",
            "24/30 [=======================>......] - ETA: 0s - loss: 0.5223 - accuracy: 0.9974 - p_det_metric: 1.0000[0. 0. 0. 1.] [0.         0.13793103 1.         1.        ]\n",
            "[0. 0. 0. 1.] [0.         0.08571429 1.         1.        ]\n",
            "26/30 [=========================>....] - ETA: 0s - loss: 0.5213 - accuracy: 0.9970 - p_det_metric: 1.0000[0. 0. 0. 1.] [0.         0.03030303 1.         1.        ]\n",
            "[0. 0. 0. 1.] [0.         0.06666667 1.         1.        ]\n",
            "28/30 [===========================>..] - ETA: 0s - loss: 0.5198 - accuracy: 0.9972 - p_det_metric: 1.0000[0. 0. 0. 1.] [0.  0.1 1.  1. ]\n",
            "[0. 0. 0. 1.] [0.         0.14285714 1.         1.        ]\n",
            "[0. 0. 0. 1.] [0.         0.05405405 1.         1.        ]\n",
            "[0. 0. 0. 1.] [0.         0.03571429 1.         1.        ]\n",
            "[0. 0. 0. 1.] [0.         0.05882353 1.         1.        ]\n",
            "[0. 0. 0. 1.] [0.         0.19354839 1.         1.        ]\n",
            "[0. 0. 0. 1.] [0.         0.03225806 1.         1.        ]\n",
            "1/1 [==============================] - 0s 28ms/step\n",
            "p_det @ 1% false alarm rate is  1.0\n",
            "30/30 [==============================] - 1s 41ms/step - loss: 0.5184 - accuracy: 0.9973 - p_det_metric: 1.0000 - val_loss: 0.4958 - val_accuracy: 0.9968 - val_p_det_metric: 1.0000\n",
            "Epoch 7/25\n",
            "[0. 0. 0. 1.] [0.         0.08333333 1.         1.        ]\n",
            " 1/30 [>.............................] - ETA: 0s - loss: 0.4837 - accuracy: 1.0000 - p_det_metric: 1.0000[0. 0. 0. 1.] [0.         0.19230769 1.         1.        ]\n",
            "[0. 0. 0. 1.] [0.         0.20588235 1.         1.        ]\n",
            "[0. 0. 0. 1.] [0.         0.17142857 1.         1.        ]\n",
            "[0. 0. 0. 1.] [0.         0.16666667 1.         1.        ]\n",
            "[0. 0. 0. 1.] [0.         0.08333333 1.         1.        ]\n",
            " 6/30 [=====>........................] - ETA: 0s - loss: 0.4877 - accuracy: 0.9948 - p_det_metric: 1.0000[0. 0. 0. 1.] [0.      0.09375 1.      1.     ]\n",
            "[0. 0. 0. 1.] [0.         0.11363636 1.         1.        ]\n",
            "[0. 0. 0. 1.] [0.         0.16129032 1.         1.        ]\n",
            "[0. 0. 0. 1.] [0.         0.05555556 1.         1.        ]\n",
            "[0. 0. 0. 1.] [0.         0.14285714 1.         1.        ]\n",
            "11/30 [==========>...................] - ETA: 0s - loss: 0.4834 - accuracy: 0.9972 - p_det_metric: 1.0000[0. 0. 0. 1.] [0.         0.17857143 1.         1.        ]\n",
            "[0. 0. 0. 1.] [0.         0.29411765 1.         1.        ]\n",
            "[0. 0. 0. 1.] [0.      0.15625 1.      1.     ]\n",
            "[0. 0. 0. 1.] [0.         0.13333333 1.         1.        ]\n",
            "15/30 [==============>...............] - ETA: 0s - loss: 0.4805 - accuracy: 0.9979 - p_det_metric: 1.0000[0. 0. 0. 1.] [0.         0.15151515 1.         1.        ]\n",
            "[0. 0. 0. 1.] [0.         0.18181818 1.         1.        ]\n",
            "[0. 0. 0. 1.] [0.         0.10714286 1.         1.        ]\n",
            "18/30 [=================>............] - ETA: 0s - loss: 0.4771 - accuracy: 0.9983 - p_det_metric: 1.0000[0. 0. 0. 1.] [0.         0.06060606 1.         1.        ]\n",
            "[0. 0. 0. 1.] [0.      0.09375 1.      1.     ]\n",
            "[0. 0. 0. 1.] [0.         0.12195122 1.         1.        ]\n",
            "[0. 0. 0. 1.] [0.         0.13793103 1.         1.        ]\n",
            "[0. 0. 0. 1.] [0.    0.125 1.    1.   ]\n",
            "23/30 [======================>.......] - ETA: 0s - loss: 0.4731 - accuracy: 0.9980 - p_det_metric: 1.0000[0. 0. 0. 1.] [0.     0.0625 1.     1.    ]\n",
            "[0. 0. 0. 1.] [0.         0.13793103 1.         1.        ]\n",
            "[0. 0. 0. 1.] [0.         0.08571429 1.         1.        ]\n",
            "26/30 [=========================>....] - ETA: 0s - loss: 0.4714 - accuracy: 0.9976 - p_det_metric: 1.0000[0. 0. 0. 1.] [0.         0.03030303 1.         1.        ]\n",
            "[0. 0. 0. 1.] [0.         0.06666667 1.         1.        ]\n",
            "[0. 0. 0. 1.] [0.  0.1 1.  1. ]\n",
            "29/30 [============================>.] - ETA: 0s - loss: 0.4692 - accuracy: 0.9978 - p_det_metric: 1.0000[0. 0. 0. 1.] [0.         0.14285714 1.         1.        ]\n",
            "[0. 0. 0. 1.] [0.         0.05405405 1.         1.        ]\n",
            "[0. 0. 0. 1.] [0.         0.03571429 1.         1.        ]\n",
            "[0. 0. 0. 1.] [0.         0.05882353 1.         1.        ]\n",
            "[0. 0. 0. 0. 1.] [0.         0.19354839 0.25806452 1.         1.        ]\n",
            "[0. 0. 0. 1.] [0.         0.06451613 1.         1.        ]\n",
            "1/1 [==============================] - 0s 116ms/step\n",
            "p_det @ 1% false alarm rate is  1.0\n",
            "30/30 [==============================] - 1s 33ms/step - loss: 0.4689 - accuracy: 0.9979 - p_det_metric: 1.0000 - val_loss: 0.4502 - val_accuracy: 0.9968 - val_p_det_metric: 1.0000\n",
            "Epoch 8/25\n",
            "[0. 0. 0. 1.] [0.         0.08333333 1.         1.        ]\n",
            " 1/30 [>.............................] - ETA: 0s - loss: 0.4372 - accuracy: 1.0000 - p_det_metric: 1.0000[0. 0. 0. 1.] [0.         0.19230769 1.         1.        ]\n",
            "[0. 0. 0. 1.] [0.         0.20588235 1.         1.        ]\n",
            "[0. 0. 0. 1.] [0.         0.17142857 1.         1.        ]\n",
            "[0. 0. 0. 1.] [0.         0.16666667 1.         1.        ]\n",
            "[0. 0. 0. 1.] [0.         0.08333333 1.         1.        ]\n",
            " 6/30 [=====>........................] - ETA: 0s - loss: 0.4420 - accuracy: 0.9948 - p_det_metric: 1.0000[0. 0. 0. 1.] [0.      0.09375 1.      1.     ]\n",
            "[0. 0. 0. 1.] [0.         0.11363636 1.         1.        ]\n",
            "[0. 0. 0. 1.] [0.         0.19354839 1.         1.        ]\n",
            "[0. 0. 0. 1.] [0.         0.05555556 1.         1.        ]\n",
            "10/30 [=========>....................] - ETA: 0s - loss: 0.4390 - accuracy: 0.9969 - p_det_metric: 1.0000[0. 0. 0. 1.] [0.         0.17142857 1.         1.        ]\n",
            "[0. 0. 0. 1.] [0.         0.17857143 1.         1.        ]\n",
            "[0. 0. 0. 0. 0. 1.] [0.         0.32352941 0.38235294 0.44117647 1.         1.        ]\n",
            "[0. 0. 0. 1.] [0.     0.1875 1.     1.    ]\n",
            "14/30 [=============>................] - ETA: 0s - loss: 0.4374 - accuracy: 0.9978 - p_det_metric: 1.0000[0. 0. 0. 1.] [0.         0.13333333 1.         1.        ]\n",
            "[0. 0. 0. 1.] [0.         0.15151515 1.         1.        ]\n",
            "[0. 0. 0. 1.] [0.         0.18181818 1.         1.        ]\n",
            "[0. 0. 0. 1.] [0.         0.10714286 1.         1.        ]\n",
            "18/30 [=================>............] - ETA: 0s - loss: 0.4332 - accuracy: 0.9983 - p_det_metric: 1.0000[0. 0. 0. 1.] [0.         0.06060606 1.         1.        ]\n",
            "[0. 0. 0. 1.] [0.      0.09375 1.      1.     ]\n",
            "[0. 0. 0. 1.] [0.         0.12195122 1.         1.        ]\n",
            "[0. 0. 0. 1.] [0.         0.13793103 1.         1.        ]\n",
            "22/30 [=====================>........] - ETA: 0s - loss: 0.4308 - accuracy: 0.9979 - p_det_metric: 1.0000[0. 0. 0. 1.] [0.    0.125 1.    1.   ]\n",
            "[0. 0. 0. 1.] [0.     0.0625 1.     1.    ]\n",
            "[0. 0. 0. 1.] [0.         0.13793103 1.         1.        ]\n",
            "25/30 [========================>.....] - ETA: 0s - loss: 0.4283 - accuracy: 0.9981 - p_det_metric: 1.0000[0. 0. 0. 1.] [0.         0.08571429 1.         1.        ]\n",
            "[0. 0. 0. 1.] [0.         0.03030303 1.         1.        ]\n",
            "[0. 0. 0. 1.] [0.         0.06666667 1.         1.        ]\n",
            "[0. 0. 0. 1.] [0.  0.1 1.  1. ]\n",
            "[0. 0. 0. 1.] [0.         0.14285714 1.         1.        ]\n",
            "30/30 [==============================] - ETA: 0s - loss: 0.4261 - accuracy: 0.9979 - p_det_metric: 1.0000[0. 0. 0. 1.] [0.         0.05405405 1.         1.        ]\n",
            "[0. 0. 0. 1.] [0.         0.03571429 1.         1.        ]\n",
            "[0. 0. 0. 1.] [0.         0.05882353 1.         1.        ]\n",
            "[0. 0. 0. 0. 1.] [0.         0.19354839 0.25806452 1.         1.        ]\n",
            "[0. 0. 0. 1.] [0.         0.06451613 1.         1.        ]\n",
            "1/1 [==============================] - 0s 29ms/step\n",
            "p_det @ 1% false alarm rate is  1.0\n",
            "30/30 [==============================] - 1s 20ms/step - loss: 0.4261 - accuracy: 0.9979 - p_det_metric: 1.0000 - val_loss: 0.4108 - val_accuracy: 0.9968 - val_p_det_metric: 1.0000\n",
            "Epoch 9/25\n",
            "[0. 0. 0. 1.] [0.         0.08333333 1.         1.        ]\n",
            " 1/30 [>.............................] - ETA: 0s - loss: 0.3983 - accuracy: 1.0000 - p_det_metric: 1.0000[0. 0. 0. 1.] [0.         0.19230769 1.         1.        ]\n",
            "[0. 0. 0. 1.] [0.         0.17647059 1.         1.        ]\n",
            "[0. 0. 0. 1.] [0.         0.17142857 1.         1.        ]\n",
            "[0. 0. 0. 1.] [0.         0.16666667 1.         1.        ]\n",
            " 5/30 [====>.........................] - ETA: 0s - loss: 0.4044 - accuracy: 0.9937 - p_det_metric: 1.0000[0. 0. 0. 1.] [0.         0.08333333 1.         1.        ]\n",
            "[0. 0. 0. 1.] [0.      0.09375 1.      1.     ]\n",
            "[0. 0. 0. 1.] [0.         0.11363636 1.         1.        ]\n",
            "[0. 0. 0. 1.] [0.         0.19354839 1.         1.        ]\n",
            " 9/30 [========>.....................] - ETA: 0s - loss: 0.4015 - accuracy: 0.9965 - p_det_metric: 1.0000[0. 0. 0. 1.] [0.         0.05555556 1.         1.        ]\n",
            "[0. 0. 0. 1.] [0.         0.17142857 1.         1.        ]\n",
            "[0. 0. 0. 1.] [0.         0.17857143 1.         1.        ]\n",
            "[0. 0. 0. 0. 0. 1.] [0.         0.29411765 0.38235294 0.44117647 1.         1.        ]\n",
            "13/30 [============>.................] - ETA: 0s - loss: 0.3997 - accuracy: 0.9976 - p_det_metric: 1.0000[0. 0. 0. 1.] [0.     0.1875 1.     1.    ]\n",
            "[0. 0. 0. 1.] [0.         0.13333333 1.         1.        ]\n",
            "[0. 0. 0. 1.] [0.         0.15151515 1.         1.        ]\n",
            "[0. 0. 0. 1.] [0.         0.18181818 1.         1.        ]\n",
            "17/30 [================>.............] - ETA: 0s - loss: 0.3962 - accuracy: 0.9982 - p_det_metric: 1.0000[0. 0. 0. 1.] [0.         0.10714286 1.         1.        ]\n",
            "[0. 0. 0. 1.] [0.         0.06060606 1.         1.        ]\n",
            "[0. 0. 0. 1.] [0.      0.09375 1.      1.     ]\n",
            "[0. 0. 0. 1.] [0.         0.12195122 1.         1.        ]\n",
            "21/30 [====================>.........] - ETA: 0s - loss: 0.3945 - accuracy: 0.9978 - p_det_metric: 1.0000[0. 0. 0. 1.] [0.         0.13793103 1.         1.        ]\n",
            "[0. 0. 0. 1.] [0.    0.125 1.    1.   ]\n",
            "[0. 0. 0. 1.] [0.     0.0625 1.     1.    ]\n",
            "[0. 0. 0. 1.] [0.         0.13793103 1.         1.        ]\n",
            "25/30 [========================>.....] - ETA: 0s - loss: 0.3912 - accuracy: 0.9981 - p_det_metric: 1.0000[0. 0. 0. 1.] [0.         0.08571429 1.         1.        ]\n",
            "[0. 0. 0. 1.] [0.         0.03030303 1.         1.        ]\n",
            "[0. 0. 0. 1.] [0.         0.06666667 1.         1.        ]\n",
            "[0. 0. 0. 1.] [0.  0.1 1.  1. ]\n",
            "29/30 [============================>.] - ETA: 0s - loss: 0.3896 - accuracy: 0.9978 - p_det_metric: 1.0000[0. 0. 0. 1.] [0.         0.14285714 1.         1.        ]\n",
            "[0. 0. 0. 1.] [0.         0.05405405 1.         1.        ]\n",
            "[0. 0. 0. 1.] [0.         0.03571429 1.         1.        ]\n",
            "[0. 0. 0. 1.] [0.         0.05882353 1.         1.        ]\n",
            "[0. 0. 0. 1.] [0.         0.16129032 1.         1.        ]\n",
            "[0. 0. 0. 1.] [0.         0.06451613 1.         1.        ]\n",
            "1/1 [==============================] - 0s 34ms/step\n",
            "p_det @ 1% false alarm rate is  1.0\n",
            "30/30 [==============================] - 1s 20ms/step - loss: 0.3893 - accuracy: 0.9979 - p_det_metric: 1.0000 - val_loss: 0.3769 - val_accuracy: 0.9968 - val_p_det_metric: 1.0000\n",
            "Epoch 10/25\n",
            "[0. 0. 0. 1.] [0.         0.08333333 1.         1.        ]\n",
            " 1/30 [>.............................] - ETA: 0s - loss: 0.3632 - accuracy: 1.0000 - p_det_metric: 1.0000[0. 0. 0. 1.] [0.         0.19230769 1.         1.        ]\n",
            "[0. 0. 0. 1.] [0.         0.20588235 1.         1.        ]\n",
            "[0. 0. 0. 1.] [0.         0.17142857 1.         1.        ]\n",
            "[0. 0. 0. 0. 0. 1.] [0.         0.16666667 0.23333333 0.3        1.         1.        ]\n",
            " 5/30 [====>.........................] - ETA: 0s - loss: 0.3704 - accuracy: 0.9937 - p_det_metric: 1.0000[0. 0. 0. 1.] [0.         0.08333333 1.         1.        ]\n",
            "[0. 0. 0. 1.] [0.      0.09375 1.      1.     ]\n",
            "[0. 0. 0. 1.] [0.         0.11363636 1.         1.        ]\n",
            "[0. 0. 0. 1.] [0.         0.19354839 1.         1.        ]\n",
            "[0. 0. 0. 1.] [0.         0.05555556 1.         1.        ]\n",
            "10/30 [=========>....................] - ETA: 0s - loss: 0.3669 - accuracy: 0.9969 - p_det_metric: 1.0000[0. 0. 0. 1.] [0.         0.17142857 1.         1.        ]\n",
            "[0. 0. 0. 1.] [0.         0.17857143 1.         1.        ]\n",
            "[0. 0. 0. 0. 0. 1.] [0.         0.29411765 0.35294118 0.41176471 1.         1.        ]\n",
            "13/30 [============>.................] - ETA: 0s - loss: 0.3665 - accuracy: 0.9976 - p_det_metric: 1.0000[0. 0. 0. 1.] [0.     0.1875 1.     1.    ]\n",
            "[0. 0. 0. 1.] [0.         0.13333333 1.         1.        ]\n",
            "[0. 0. 0. 1.] [0.         0.15151515 1.         1.        ]\n",
            "[0. 0. 0. 1.] [0.         0.18181818 1.         1.        ]\n",
            "17/30 [================>.............] - ETA: 0s - loss: 0.3634 - accuracy: 0.9982 - p_det_metric: 1.0000[0. 0. 0. 1.] [0.         0.10714286 1.         1.        ]\n",
            "[0. 0. 0. 1.] [0.         0.06060606 1.         1.        ]\n",
            "[0. 0. 0. 1.] [0.      0.09375 1.      1.     ]\n",
            "20/30 [===================>..........] - ETA: 0s - loss: 0.3633 - accuracy: 0.9977 - p_det_metric: 1.0000[0. 0. 0. 1.] [0.         0.12195122 1.         1.        ]\n",
            "[0. 0. 0. 1.] [0.         0.13793103 1.         1.        ]\n",
            "[0. 0. 0. 1.] [0.    0.125 1.    1.   ]\n",
            "[0. 0. 0. 1.] [0.     0.0625 1.     1.    ]\n",
            "24/30 [=======================>......] - ETA: 0s - loss: 0.3595 - accuracy: 0.9980 - p_det_metric: 1.0000[0. 0. 0. 1.] [0.         0.13793103 1.         1.        ]\n",
            "[0. 0. 0. 1.] [0.         0.08571429 1.         1.        ]\n",
            "[0. 0. 0. 1.] [0.         0.03030303 1.         1.        ]\n",
            "27/30 [==========================>...] - ETA: 0s - loss: 0.3587 - accuracy: 0.9977 - p_det_metric: 1.0000[0. 0. 0. 1.] [0.         0.06666667 1.         1.        ]\n",
            "[0. 0. 0. 1.] [0.  0.1 1.  1. ]\n",
            "[0. 0. 0. 1.] [0.         0.14285714 1.         1.        ]\n",
            "30/30 [==============================] - ETA: 0s - loss: 0.3575 - accuracy: 0.9979 - p_det_metric: 1.0000[0. 0. 0. 1.] [0.         0.05405405 1.         1.        ]\n",
            "[0. 0. 0. 1.] [0.         0.03571429 1.         1.        ]\n",
            "[0. 0. 0. 1.] [0.         0.05882353 1.         1.        ]\n",
            "[0. 0. 0. 1.] [0.         0.16129032 1.         1.        ]\n",
            "[0. 0. 0. 1.] [0.         0.06451613 1.         1.        ]\n",
            "1/1 [==============================] - 0s 36ms/step\n",
            "p_det @ 1% false alarm rate is  1.0\n",
            "30/30 [==============================] - 1s 22ms/step - loss: 0.3575 - accuracy: 0.9979 - p_det_metric: 1.0000 - val_loss: 0.3474 - val_accuracy: 0.9968 - val_p_det_metric: 1.0000\n",
            "Epoch 11/25\n",
            "[0. 0. 0. 1.] [0.         0.08333333 1.         1.        ]\n",
            " 1/30 [>.............................] - ETA: 0s - loss: 0.3344 - accuracy: 1.0000 - p_det_metric: 1.0000[0. 0. 0. 1.] [0.         0.19230769 1.         1.        ]\n",
            "[0. 0. 0. 1.] [0.         0.17647059 1.         1.        ]\n",
            "[0. 0. 0. 1.] [0.         0.17142857 1.         1.        ]\n",
            "[0. 0. 0. 1.] [0.  0.2 1.  1. ]\n",
            " 5/30 [====>.........................] - ETA: 0s - loss: 0.3413 - accuracy: 0.9937 - p_det_metric: 1.0000[0. 0. 0. 1.] [0.         0.08333333 1.         1.        ]\n",
            "[0. 0. 0. 1.] [0.      0.09375 1.      1.     ]\n",
            "[0. 0. 0. 1.] [0.         0.11363636 1.         1.        ]\n",
            "[0. 0. 0. 1.] [0.         0.19354839 1.         1.        ]\n",
            " 9/30 [========>.....................] - ETA: 0s - loss: 0.3390 - accuracy: 0.9965 - p_det_metric: 1.0000[0. 0. 0. 1.] [0.         0.05555556 1.         1.        ]\n",
            "[0. 0. 0. 1.] [0.         0.17142857 1.         1.        ]\n",
            "[0. 0. 0. 1.] [0.         0.17857143 1.         1.        ]\n",
            "[0. 0. 0. 1.] [0.         0.29411765 1.         1.        ]\n",
            "13/30 [============>.................] - ETA: 0s - loss: 0.3378 - accuracy: 0.9976 - p_det_metric: 1.0000[0. 0. 0. 1.] [0.     0.1875 1.     1.    ]\n",
            "[0. 0. 0. 1.] [0.         0.13333333 1.         1.        ]\n",
            "[0. 0. 0. 1.] [0.         0.15151515 1.         1.        ]\n",
            "16/30 [===============>..............] - ETA: 0s - loss: 0.3360 - accuracy: 0.9980 - p_det_metric: 1.0000[0. 0. 0. 1.] [0.         0.18181818 1.         1.        ]\n",
            "[0. 0. 0. 1.] [0.         0.10714286 1.         1.        ]\n",
            "[0. 0. 0. 1.] [0.         0.06060606 1.         1.        ]\n",
            "19/30 [==================>...........] - ETA: 0s - loss: 0.3351 - accuracy: 0.9975 - p_det_metric: 1.0000[0. 0. 0. 1.] [0.      0.09375 1.      1.     ]\n",
            "[0. 0. 0. 1.] [0.         0.12195122 1.         1.        ]\n",
            "[0. 0. 0. 1.] [0.         0.13793103 1.         1.        ]\n",
            "[0. 0. 0. 1.] [0.    0.125 1.    1.   ]\n",
            "23/30 [======================>.......] - ETA: 0s - loss: 0.3323 - accuracy: 0.9980 - p_det_metric: 1.0000[0. 0. 0. 1.] [0.     0.0625 1.     1.    ]\n",
            "[0. 0. 0. 1.] [0.         0.13793103 1.         1.        ]\n",
            "[0. 0. 0. 1.] [0.         0.08571429 1.         1.        ]\n",
            "[0. 0. 0. 1.] [0.         0.03030303 1.         1.        ]\n",
            "27/30 [==========================>...] - ETA: 0s - loss: 0.3311 - accuracy: 0.9977 - p_det_metric: 1.0000[0. 0. 0. 1.] [0.         0.06666667 1.         1.        ]\n",
            "[0. 0. 0. 1.] [0.  0.1 1.  1. ]\n",
            "[0. 0. 0. 1.] [0.         0.14285714 1.         1.        ]\n",
            "[0. 0. 0. 1.] [0.         0.05405405 1.         1.        ]\n",
            "[0. 0. 0. 1.] [0.         0.03571429 1.         1.        ]\n",
            "[0. 0. 0. 1.] [0.         0.05882353 1.         1.        ]\n",
            "[0. 0. 0. 1.] [0.         0.19354839 1.         1.        ]\n",
            "[0. 0. 0. 0. 0. 1.] [0.         0.06451613 0.12903226 0.19354839 1.         1.        ]\n",
            "1/1 [==============================] - 0s 32ms/step\n",
            "p_det @ 1% false alarm rate is  1.0\n",
            "30/30 [==============================] - 1s 23ms/step - loss: 0.3300 - accuracy: 0.9979 - p_det_metric: 1.0000 - val_loss: 0.3218 - val_accuracy: 0.9968 - val_p_det_metric: 1.0000\n",
            "Epoch 12/25\n",
            "[0. 0. 0. 1.] [0.         0.08333333 1.         1.        ]\n",
            " 1/30 [>.............................] - ETA: 0s - loss: 0.3079 - accuracy: 1.0000 - p_det_metric: 1.0000[0. 0. 0. 1.] [0.         0.19230769 1.         1.        ]\n",
            "[0. 0. 0. 1.] [0.         0.17647059 1.         1.        ]\n",
            "[0. 0. 0. 1.] [0.         0.17142857 1.         1.        ]\n",
            "[0. 0. 0. 1.] [0.  0.2 1.  1. ]\n",
            " 5/30 [====>.........................] - ETA: 0s - loss: 0.3157 - accuracy: 0.9937 - p_det_metric: 1.0000[0. 0. 0. 1.] [0.         0.08333333 1.         1.        ]\n",
            "[0. 0. 0. 1.] [0.      0.09375 1.      1.     ]\n",
            "[0. 0. 0. 1.] [0.         0.11363636 1.         1.        ]\n",
            "[0. 0. 0. 1.] [0.         0.19354839 1.         1.        ]\n",
            " 9/30 [========>.....................] - ETA: 0s - loss: 0.3137 - accuracy: 0.9965 - p_det_metric: 1.0000[0. 0. 0. 1.] [0.         0.05555556 1.         1.        ]\n",
            "[0. 0. 0. 1.] [0.         0.17142857 1.         1.        ]\n",
            "[0. 0. 0. 1.] [0.         0.17857143 1.         1.        ]\n",
            "[0. 0. 0. 0. 1.] [0.         0.29411765 0.41176471 1.         1.        ]\n",
            "13/30 [============>.................] - ETA: 0s - loss: 0.3128 - accuracy: 0.9976 - p_det_metric: 1.0000[0. 0. 0. 1.] [0.      0.15625 1.      1.     ]\n",
            "[0. 0. 0. 1.] [0.         0.13333333 1.         1.        ]\n",
            "[0. 0. 0. 1.] [0.         0.15151515 1.         1.        ]\n",
            "16/30 [===============>..............] - ETA: 0s - loss: 0.3112 - accuracy: 0.9980 - p_det_metric: 1.0000[0. 0. 0. 1.] [0.         0.18181818 1.         1.        ]\n",
            "[0. 0. 0. 1.] [0.         0.10714286 1.         1.        ]\n",
            "[0. 0. 0. 1.] [0.         0.06060606 1.         1.        ]\n",
            "19/30 [==================>...........] - ETA: 0s - loss: 0.3107 - accuracy: 0.9975 - p_det_metric: 1.0000[0. 0. 0. 1.] [0.      0.09375 1.      1.     ]\n",
            "[0. 0. 0. 1.] [0.         0.12195122 1.         1.        ]\n",
            "[0. 0. 0. 1.] [0.         0.13793103 1.         1.        ]\n",
            "[0. 0. 0. 1.] [0.    0.125 1.    1.   ]\n",
            "23/30 [======================>.......] - ETA: 0s - loss: 0.3081 - accuracy: 0.9980 - p_det_metric: 1.0000[0. 0. 0. 1.] [0.     0.0625 1.     1.    ]\n",
            "[0. 0. 0. 1.] [0.         0.13793103 1.         1.        ]\n",
            "[0. 0. 0. 1.] [0.         0.05714286 1.         1.        ]\n",
            "[0. 0. 0. 1.] [0.         0.03030303 1.         1.        ]\n",
            "[0. 0. 0. 1.] [0.         0.06666667 1.         1.        ]\n",
            "28/30 [===========================>..] - ETA: 0s - loss: 0.3068 - accuracy: 0.9978 - p_det_metric: 1.0000[0. 0. 0. 1.] [0.  0.1 1.  1. ]\n",
            "[0. 0. 0. 1.] [0.         0.14285714 1.         1.        ]\n",
            "[0. 0. 0. 1.] [0.         0.05405405 1.         1.        ]\n",
            "[0. 0. 0. 1.] [0.         0.03571429 1.         1.        ]\n",
            "[0. 0. 0. 1.] [0.         0.05882353 1.         1.        ]\n",
            "[0. 0. 0. 1.] [0.         0.19354839 1.         1.        ]\n",
            "[0. 0. 0. 1.] [0.         0.06451613 1.         1.        ]\n",
            "1/1 [==============================] - 0s 30ms/step\n",
            "p_det @ 1% false alarm rate is  1.0\n",
            "30/30 [==============================] - 1s 19ms/step - loss: 0.3061 - accuracy: 0.9979 - p_det_metric: 1.0000 - val_loss: 0.2994 - val_accuracy: 0.9968 - val_p_det_metric: 1.0000\n",
            "Epoch 13/25\n",
            "[0. 0. 0. 1.] [0.         0.08333333 1.         1.        ]\n",
            " 1/30 [>.............................] - ETA: 0s - loss: 0.2863 - accuracy: 1.0000 - p_det_metric: 1.0000[0. 0. 0. 1.] [0.         0.19230769 1.         1.        ]\n",
            "[0. 0. 0. 1.] [0.         0.17647059 1.         1.        ]\n",
            "[0. 0. 0. 1.] [0.         0.17142857 1.         1.        ]\n",
            "[0. 0. 0. 1.] [0.         0.16666667 1.         1.        ]\n",
            " 5/30 [====>.........................] - ETA: 0s - loss: 0.2941 - accuracy: 0.9937 - p_det_metric: 1.0000[0. 0. 0. 1.] [0.         0.08333333 1.         1.        ]\n",
            "[0. 0. 0. 1.] [0.      0.09375 1.      1.     ]\n",
            "[0. 0. 0. 1.] [0.         0.11363636 1.         1.        ]\n",
            "[0. 0. 0. 1.] [0.         0.19354839 1.         1.        ]\n",
            " 9/30 [========>.....................] - ETA: 0s - loss: 0.2922 - accuracy: 0.9965 - p_det_metric: 1.0000[0. 0. 0. 1.] [0.         0.05555556 1.         1.        ]\n",
            "[0. 0. 0. 1.] [0.         0.17142857 1.         1.        ]\n",
            "[0. 0. 0. 1.] [0.         0.17857143 1.         1.        ]\n",
            "12/30 [===========>..................] - ETA: 0s - loss: 0.2921 - accuracy: 0.9974 - p_det_metric: 1.0000[0. 0. 0. 0. 1.] [0.         0.29411765 0.35294118 1.         1.        ]\n",
            "[0. 0. 0. 1.] [0.     0.1875 1.     1.    ]\n",
            "[0. 0. 0. 1.] [0.         0.13333333 1.         1.        ]\n",
            "[0. 0. 0. 1.] [0.         0.15151515 1.         1.        ]\n",
            "16/30 [===============>..............] - ETA: 0s - loss: 0.2900 - accuracy: 0.9980 - p_det_metric: 1.0000[0. 0. 0. 1.] [0.         0.18181818 1.         1.        ]\n",
            "[0. 0. 0. 1.] [0.         0.10714286 1.         1.        ]\n",
            "[0. 0. 0. 1.] [0.         0.06060606 1.         1.        ]\n",
            "[0. 0. 0. 1.] [0.      0.09375 1.      1.     ]\n",
            "20/30 [===================>..........] - ETA: 0s - loss: 0.2896 - accuracy: 0.9977 - p_det_metric: 1.0000[0. 0. 0. 1.] [0.         0.12195122 1.         1.        ]\n",
            "[0. 0. 0. 1.] [0.         0.13793103 1.         1.        ]\n",
            "[0. 0. 0. 1.] [0.    0.125 1.    1.   ]\n",
            "23/30 [======================>.......] - ETA: 0s - loss: 0.2871 - accuracy: 0.9980 - p_det_metric: 1.0000[0. 0. 0. 1.] [0.     0.0625 1.     1.    ]\n",
            "[0. 0. 0. 1.] [0.         0.13793103 1.         1.        ]\n",
            "[0. 0. 0. 1.] [0.         0.08571429 1.         1.        ]\n",
            "[0. 0. 0. 1.] [0.         0.03030303 1.         1.        ]\n",
            "27/30 [==========================>...] - ETA: 0s - loss: 0.2862 - accuracy: 0.9977 - p_det_metric: 1.0000[0. 0. 0. 1.] [0.         0.06666667 1.         1.        ]\n",
            "[0. 0. 0. 1.] [0.  0.1 1.  1. ]\n",
            "[0. 0. 0. 1.] [0.         0.14285714 1.         1.        ]\n",
            "[0. 0. 0. 1.] [0.         0.05405405 1.         1.        ]\n",
            "[0. 0. 0. 1.] [0.         0.03571429 1.         1.        ]\n",
            "[0. 0. 0. 1.] [0.         0.05882353 1.         1.        ]\n",
            "[0. 0. 0. 1.] [0.         0.19354839 1.         1.        ]\n",
            "[0. 0. 0. 0. 1.] [0.         0.03225806 0.09677419 1.         1.        ]\n",
            "1/1 [==============================] - 0s 44ms/step\n",
            "p_det @ 1% false alarm rate is  1.0\n",
            "30/30 [==============================] - 1s 21ms/step - loss: 0.2853 - accuracy: 0.9979 - p_det_metric: 1.0000 - val_loss: 0.2800 - val_accuracy: 0.9968 - val_p_det_metric: 1.0000\n",
            "Epoch 14/25\n",
            "[0. 0. 0. 1.] [0.         0.08333333 1.         1.        ]\n",
            " 1/30 [>.............................] - ETA: 1s - loss: 0.2666 - accuracy: 1.0000 - p_det_metric: 1.0000[0. 0. 0. 1.] [0.         0.19230769 1.         1.        ]\n",
            "[0. 0. 0. 1.] [0.         0.17647059 1.         1.        ]\n",
            "[0. 0. 0. 1.] [0.         0.17142857 1.         1.        ]\n",
            " 4/30 [===>..........................] - ETA: 0s - loss: 0.2721 - accuracy: 0.9961 - p_det_metric: 1.0000[0. 0. 0. 1.] [0.         0.16666667 1.         1.        ]\n",
            "[0. 0. 0. 1.] [0.         0.08333333 1.         1.        ]\n",
            "[0. 0. 0. 1.] [0.      0.09375 1.      1.     ]\n",
            " 7/30 [======>.......................] - ETA: 0s - loss: 0.2743 - accuracy: 0.9955 - p_det_metric: 1.0000[0. 0. 0. 1.] [0.         0.11363636 1.         1.        ]\n",
            "[0. 0. 0. 1.] [0.         0.19354839 1.         1.        ]\n",
            "[0.         0.         0.         0.03571429 0.03571429 1.        ] [0.         0.05555556 0.97222222 0.97222222 1.         1.        ]\n",
            "10/30 [=========>....................] - ETA: 0s - loss: 0.2750 - accuracy: 0.9953 - p_det_metric: 0.9972[0. 0. 0. 1.] [0.         0.14285714 1.         1.        ]\n",
            "[0. 0. 0. 1.] [0.         0.17857143 1.         1.        ]\n",
            "[0. 0. 0. 1.] [0.         0.26470588 1.         1.        ]\n",
            "13/30 [============>.................] - ETA: 0s - loss: 0.2806 - accuracy: 0.9904 - p_det_metric: 0.9979[0. 0. 0. 1.] [0.      0.15625 1.      1.     ]\n",
            "[0. 0. 0. 1.] [0.         0.06666667 1.         1.        ]\n",
            "15/30 [==============>...............] - ETA: 0s - loss: 0.2827 - accuracy: 0.9885 - p_det_metric: 0.9981[0. 0. 0. 1.] [0.         0.12121212 1.         1.        ]\n",
            "[0. 0. 0. 1.] [0.         0.12121212 1.         1.        ]\n",
            "17/30 [================>.............] - ETA: 0s - loss: 0.2832 - accuracy: 0.9899 - p_det_metric: 0.9984[0. 0. 0. 1.] [0.         0.10714286 1.         1.        ]\n",
            "[0. 0. 0. 1.] [0.         0.06060606 1.         1.        ]\n",
            "[0. 0. 0. 1.] [0.      0.09375 1.      1.     ]\n",
            "20/30 [===================>..........] - ETA: 0s - loss: 0.2843 - accuracy: 0.9906 - p_det_metric: 0.9986[0. 0. 0. 1.] [0.         0.12195122 1.         1.        ]\n",
            "[0. 0. 0. 1.] [0.         0.13793103 1.         1.        ]\n",
            "[0. 0. 0. 1.] [0.    0.125 1.    1.   ]\n",
            "23/30 [======================>.......] - ETA: 0s - loss: 0.2842 - accuracy: 0.9918 - p_det_metric: 0.9988[0. 0. 0. 1.] [0.     0.0625 1.     1.    ]\n",
            "[0. 0. 0. 1.] [0.         0.10344828 1.         1.        ]\n",
            "25/30 [========================>.....] - ETA: 0s - loss: 0.2856 - accuracy: 0.9925 - p_det_metric: 0.9989[0. 0. 0. 1.] [0.         0.02857143 1.         1.        ]\n",
            "[0. 0. 0. 1.] [0.         0.03030303 1.         1.        ]\n",
            "27/30 [==========================>...] - ETA: 0s - loss: 0.2856 - accuracy: 0.9931 - p_det_metric: 0.9990[0. 0. 0. 1.] [0.         0.06666667 1.         1.        ]\n",
            "[0. 0. 0. 1.] [0.  0.1 1.  1. ]\n",
            "[0. 0. 0. 1.] [0.         0.14285714 1.         1.        ]\n",
            "30/30 [==============================] - ETA: 0s - loss: 0.2847 - accuracy: 0.9936 - p_det_metric: 0.9991[0. 0. 0. 1.] [0.         0.05405405 1.         1.        ]\n",
            "[0. 0. 0. 1.] [0.         0.03571429 1.         1.        ]\n",
            "[0. 0. 0. 1.] [0.         0.05882353 1.         1.        ]\n",
            "[0. 0. 0. 1.] [0.         0.12903226 1.         1.        ]\n",
            "[0. 0. 0. 1.] [0.         0.03225806 1.         1.        ]\n",
            "1/1 [==============================] - 0s 48ms/step\n",
            "p_det @ 1% false alarm rate is  1.0\n",
            "30/30 [==============================] - 1s 34ms/step - loss: 0.2847 - accuracy: 0.9936 - p_det_metric: 0.9991 - val_loss: 0.2927 - val_accuracy: 0.9872 - val_p_det_metric: 1.0000\n"
          ]
        },
        {
          "output_type": "error",
          "ename": "KeyboardInterrupt",
          "evalue": "ignored",
          "traceback": [
            "\u001b[0;31m---------------------------------------------------------------------------\u001b[0m",
            "\u001b[0;31mKeyboardInterrupt\u001b[0m                         Traceback (most recent call last)",
            "\u001b[0;32m<ipython-input-120-a59adfbd8fa9>\u001b[0m in \u001b[0;36m<cell line: 6>\u001b[0;34m()\u001b[0m\n\u001b[1;32m      4\u001b[0m \u001b[0;34m\u001b[0m\u001b[0m\n\u001b[1;32m      5\u001b[0m \u001b[0;31m# , validation_data=(x_val_s, y_val_s)\u001b[0m\u001b[0;34m\u001b[0m\u001b[0;34m\u001b[0m\u001b[0m\n\u001b[0;32m----> 6\u001b[0;31m \u001b[0mhistory\u001b[0m \u001b[0;34m=\u001b[0m \u001b[0mtf_model\u001b[0m\u001b[0;34m.\u001b[0m\u001b[0mfit\u001b[0m\u001b[0;34m(\u001b[0m\u001b[0mtrain_dataset\u001b[0m\u001b[0;34m,\u001b[0m \u001b[0mepochs\u001b[0m\u001b[0;34m=\u001b[0m\u001b[0mEPOCHS\u001b[0m\u001b[0;34m,\u001b[0m \u001b[0mvalidation_data\u001b[0m\u001b[0;34m=\u001b[0m\u001b[0;34m(\u001b[0m\u001b[0mval_dataset\u001b[0m\u001b[0;34m)\u001b[0m\u001b[0;34m,\u001b[0m \u001b[0mcallbacks\u001b[0m\u001b[0;34m=\u001b[0m\u001b[0;34m[\u001b[0m\u001b[0mroc\u001b[0m\u001b[0;34m]\u001b[0m\u001b[0;34m)\u001b[0m\u001b[0;34m\u001b[0m\u001b[0;34m\u001b[0m\u001b[0m\n\u001b[0m\u001b[1;32m      7\u001b[0m \u001b[0;34m\u001b[0m\u001b[0m\n\u001b[1;32m      8\u001b[0m \u001b[0;31m#\u001b[0m\u001b[0;34m\u001b[0m\u001b[0;34m\u001b[0m\u001b[0m\n",
            "\u001b[0;32m/usr/local/lib/python3.10/dist-packages/keras/utils/traceback_utils.py\u001b[0m in \u001b[0;36merror_handler\u001b[0;34m(*args, **kwargs)\u001b[0m\n\u001b[1;32m     63\u001b[0m         \u001b[0mfiltered_tb\u001b[0m \u001b[0;34m=\u001b[0m \u001b[0;32mNone\u001b[0m\u001b[0;34m\u001b[0m\u001b[0;34m\u001b[0m\u001b[0m\n\u001b[1;32m     64\u001b[0m         \u001b[0;32mtry\u001b[0m\u001b[0;34m:\u001b[0m\u001b[0;34m\u001b[0m\u001b[0;34m\u001b[0m\u001b[0m\n\u001b[0;32m---> 65\u001b[0;31m             \u001b[0;32mreturn\u001b[0m \u001b[0mfn\u001b[0m\u001b[0;34m(\u001b[0m\u001b[0;34m*\u001b[0m\u001b[0margs\u001b[0m\u001b[0;34m,\u001b[0m \u001b[0;34m**\u001b[0m\u001b[0mkwargs\u001b[0m\u001b[0;34m)\u001b[0m\u001b[0;34m\u001b[0m\u001b[0;34m\u001b[0m\u001b[0m\n\u001b[0m\u001b[1;32m     66\u001b[0m         \u001b[0;32mexcept\u001b[0m \u001b[0mException\u001b[0m \u001b[0;32mas\u001b[0m \u001b[0me\u001b[0m\u001b[0;34m:\u001b[0m\u001b[0;34m\u001b[0m\u001b[0;34m\u001b[0m\u001b[0m\n\u001b[1;32m     67\u001b[0m             \u001b[0mfiltered_tb\u001b[0m \u001b[0;34m=\u001b[0m \u001b[0m_process_traceback_frames\u001b[0m\u001b[0;34m(\u001b[0m\u001b[0me\u001b[0m\u001b[0;34m.\u001b[0m\u001b[0m__traceback__\u001b[0m\u001b[0;34m)\u001b[0m\u001b[0;34m\u001b[0m\u001b[0;34m\u001b[0m\u001b[0m\n",
            "\u001b[0;32m/usr/local/lib/python3.10/dist-packages/keras/engine/training.py\u001b[0m in \u001b[0;36mfit\u001b[0;34m(self, x, y, batch_size, epochs, verbose, callbacks, validation_split, validation_data, shuffle, class_weight, sample_weight, initial_epoch, steps_per_epoch, validation_steps, validation_batch_size, validation_freq, max_queue_size, workers, use_multiprocessing)\u001b[0m\n\u001b[1;32m   1671\u001b[0m             \u001b[0mlogs\u001b[0m \u001b[0;34m=\u001b[0m \u001b[0;32mNone\u001b[0m\u001b[0;34m\u001b[0m\u001b[0;34m\u001b[0m\u001b[0m\n\u001b[1;32m   1672\u001b[0m             \u001b[0;32mfor\u001b[0m \u001b[0mepoch\u001b[0m\u001b[0;34m,\u001b[0m \u001b[0miterator\u001b[0m \u001b[0;32min\u001b[0m \u001b[0mdata_handler\u001b[0m\u001b[0;34m.\u001b[0m\u001b[0menumerate_epochs\u001b[0m\u001b[0;34m(\u001b[0m\u001b[0;34m)\u001b[0m\u001b[0;34m:\u001b[0m\u001b[0;34m\u001b[0m\u001b[0;34m\u001b[0m\u001b[0m\n\u001b[0;32m-> 1673\u001b[0;31m                 \u001b[0mself\u001b[0m\u001b[0;34m.\u001b[0m\u001b[0mreset_metrics\u001b[0m\u001b[0;34m(\u001b[0m\u001b[0;34m)\u001b[0m\u001b[0;34m\u001b[0m\u001b[0;34m\u001b[0m\u001b[0m\n\u001b[0m\u001b[1;32m   1674\u001b[0m                 \u001b[0mcallbacks\u001b[0m\u001b[0;34m.\u001b[0m\u001b[0mon_epoch_begin\u001b[0m\u001b[0;34m(\u001b[0m\u001b[0mepoch\u001b[0m\u001b[0;34m)\u001b[0m\u001b[0;34m\u001b[0m\u001b[0;34m\u001b[0m\u001b[0m\n\u001b[1;32m   1675\u001b[0m                 \u001b[0;32mwith\u001b[0m \u001b[0mdata_handler\u001b[0m\u001b[0;34m.\u001b[0m\u001b[0mcatch_stop_iteration\u001b[0m\u001b[0;34m(\u001b[0m\u001b[0;34m)\u001b[0m\u001b[0;34m:\u001b[0m\u001b[0;34m\u001b[0m\u001b[0;34m\u001b[0m\u001b[0m\n",
            "\u001b[0;32m/usr/local/lib/python3.10/dist-packages/keras/engine/training.py\u001b[0m in \u001b[0;36mreset_metrics\u001b[0;34m(self)\u001b[0m\n\u001b[1;32m   2426\u001b[0m         \u001b[0;32mreturn\u001b[0m \u001b[0mtf_utils\u001b[0m\u001b[0;34m.\u001b[0m\u001b[0msync_to_numpy_or_python_type\u001b[0m\u001b[0;34m(\u001b[0m\u001b[0mall_outputs\u001b[0m\u001b[0;34m)\u001b[0m\u001b[0;34m\u001b[0m\u001b[0;34m\u001b[0m\u001b[0m\n\u001b[1;32m   2427\u001b[0m \u001b[0;34m\u001b[0m\u001b[0m\n\u001b[0;32m-> 2428\u001b[0;31m     \u001b[0;32mdef\u001b[0m \u001b[0mreset_metrics\u001b[0m\u001b[0;34m(\u001b[0m\u001b[0mself\u001b[0m\u001b[0;34m)\u001b[0m\u001b[0;34m:\u001b[0m\u001b[0;34m\u001b[0m\u001b[0;34m\u001b[0m\u001b[0m\n\u001b[0m\u001b[1;32m   2429\u001b[0m         \"\"\"Resets the state of all the metrics in the model.\n\u001b[1;32m   2430\u001b[0m \u001b[0;34m\u001b[0m\u001b[0m\n",
            "\u001b[0;31mKeyboardInterrupt\u001b[0m: "
          ]
        }
      ],
      "source": [
        "EPOCHS = 25\n",
        "\n",
        "# history = tf_model.fit(x_train_s, y_train_s, epochs=EPOCHS)\n",
        "\n",
        "# , validation_data=(x_val_s, y_val_s)\n",
        "history = tf_model.fit(train_dataset, epochs=EPOCHS, validation_data=(val_dataset), callbacks=[roc])\n",
        "\n",
        "# "
      ]
    },
    {
      "cell_type": "code",
      "execution_count": null,
      "metadata": {
        "id": "E1Ut_i1lVIRg"
      },
      "outputs": [],
      "source": [
        "\n",
        "plt.figure(figsize=(15, 6))\n",
        "\n",
        "plt.subplot(121)\n",
        "\n",
        "plt.plot(np.arange(0, EPOCHS), history.history['loss'], label=\"Training Loss\", marker=\"x\", ms=3)\n",
        "plt.plot(np.arange(0, EPOCHS), history.history['val_loss'], label=\"Validation Loss\", marker=\"x\", ms=3)\n",
        "\n",
        "plt.legend()\n",
        "\n",
        "plt.subplot(122)\n",
        "\n",
        "metric = 'p_det_metric'\n",
        "\n",
        "plt.plot(np.arange(0, EPOCHS), history.history[metric], label=\"Training pdet\", marker=\"x\", ms=3)\n",
        "plt.plot(np.arange(0, EPOCHS), history.history['val_' + metric], label=\"Validation pdet\", marker=\"x\", ms=3)\n",
        "\n",
        "plt.ylim(0, 1)\n",
        "\n",
        "plt.legend()"
      ]
    },
    {
      "cell_type": "code",
      "execution_count": null,
      "metadata": {
        "id": "oMVF5x6tr5bp"
      },
      "outputs": [],
      "source": [
        "result = tf_model.evaluate(test_dataset)"
      ]
    },
    {
      "cell_type": "code",
      "source": [
        "test_predicted_ys = tf_model.predict(x_test_s)"
      ],
      "metadata": {
        "id": "9rqNslrgPjLC"
      },
      "execution_count": null,
      "outputs": []
    },
    {
      "cell_type": "code",
      "source": [],
      "metadata": {
        "id": "F8-UlwE-hFec"
      },
      "execution_count": null,
      "outputs": []
    },
    {
      "cell_type": "code",
      "execution_count": null,
      "metadata": {
        "id": "7RDEp3aPsjEe"
      },
      "outputs": [],
      "source": [
        "fpr, tpr, thresholds = roc_curve(y_test_s, test_predicted_ys)"
      ]
    },
    {
      "cell_type": "code",
      "source": [
        "plt.plot(fpr, tpr)\n",
        "\n",
        "plt.plot([0, 1], [0, 1], ls=\"dotted\", lw=0.5)\n",
        "\n",
        "plt.grid(alpha=0.3, ls=\"dotted\")\n",
        "\n",
        "plt.xlabel(\"False Positive Rate\")\n",
        "\n",
        "plt.ylabel(\"True Positive Rate\")"
      ],
      "metadata": {
        "id": "AP1JOOj8Puju"
      },
      "execution_count": null,
      "outputs": []
    },
    {
      "cell_type": "code",
      "source": [
        "plt.plot(fpr, tpr)\n",
        "\n",
        "plt.plot([0, 1], [0, 1], ls=\"dotted\", lw=0.5)\n",
        "\n",
        "plt.grid(alpha=0.3, ls=\"dotted\")\n",
        "\n",
        "plt.xlabel(\"False Positive Rate\")\n",
        "\n",
        "plt.ylabel(\"True Positive Rate\")\n",
        "\n",
        "plt.xlim(0, 0.1)"
      ],
      "metadata": {
        "id": "bgtLvgPJP8ZG"
      },
      "execution_count": null,
      "outputs": []
    },
    {
      "cell_type": "code",
      "source": [
        "# fpr, tpr, thresholds = metrics.roc_curve(label, probability)\n",
        "interpolate.interp1d(fpr, tpr)(0.01)"
      ],
      "metadata": {
        "id": "jSAuTZtJQRTF"
      },
      "execution_count": null,
      "outputs": []
    },
    {
      "cell_type": "code",
      "source": [
        "tpr_intrp(0.08)"
      ],
      "metadata": {
        "id": "CnoHh1ScRy6D"
      },
      "execution_count": null,
      "outputs": []
    },
    {
      "cell_type": "code",
      "source": [],
      "metadata": {
        "id": "c8ukxj19SI-t"
      },
      "execution_count": null,
      "outputs": []
    }
  ],
  "metadata": {
    "colab": {
      "provenance": [],
      "authorship_tag": "ABX9TyOyBqRXwkS10j9D54dZRUKc",
      "include_colab_link": true
    },
    "kernelspec": {
      "display_name": "Python 3",
      "name": "python3"
    },
    "language_info": {
      "name": "python"
    }
  },
  "nbformat": 4,
  "nbformat_minor": 0
}